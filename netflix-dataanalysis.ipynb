{
 "cells": [
  {
   "cell_type": "code",
   "execution_count": 1,
   "id": "01538a6a",
   "metadata": {
    "execution": {
     "iopub.execute_input": "2025-03-11T09:21:30.764389Z",
     "iopub.status.busy": "2025-03-11T09:21:30.763937Z",
     "iopub.status.idle": "2025-03-11T09:21:33.450491Z",
     "shell.execute_reply": "2025-03-11T09:21:33.448342Z"
    },
    "papermill": {
     "duration": 2.695291,
     "end_time": "2025-03-11T09:21:33.452782",
     "exception": false,
     "start_time": "2025-03-11T09:21:30.757491",
     "status": "completed"
    },
    "tags": []
   },
   "outputs": [],
   "source": [
    "import os \n",
    "import pandas as pd\n",
    "import numpy as np\n",
    "import matplotlib.pyplot as plt\n",
    "import plotly.express as px\n",
    "from plotly.offline import iplot, plot\n",
    "import plotly.graph_objects as go\n",
    "from plotly.subplots import make_subplots\n",
    "\n",
    "\n",
    "\n",
    "from collections import Counter\n"
   ]
  },
  {
   "cell_type": "code",
   "execution_count": 2,
   "id": "8c66c81c",
   "metadata": {
    "execution": {
     "iopub.execute_input": "2025-03-11T09:21:33.464715Z",
     "iopub.status.busy": "2025-03-11T09:21:33.464088Z",
     "iopub.status.idle": "2025-03-11T09:21:33.481364Z",
     "shell.execute_reply": "2025-03-11T09:21:33.480066Z"
    },
    "papermill": {
     "duration": 0.024383,
     "end_time": "2025-03-11T09:21:33.483134",
     "exception": false,
     "start_time": "2025-03-11T09:21:33.458751",
     "status": "completed"
    },
    "tags": []
   },
   "outputs": [
    {
     "data": {
      "text/plain": [
       "['netflix1.csv']"
      ]
     },
     "execution_count": 2,
     "metadata": {},
     "output_type": "execute_result"
    }
   ],
   "source": [
    "os.listdir('/kaggle/input/netflix-dataset') "
   ]
  },
  {
   "cell_type": "markdown",
   "id": "7a634f3a",
   "metadata": {
    "papermill": {
     "duration": 0.003666,
     "end_time": "2025-03-11T09:21:33.491246",
     "exception": false,
     "start_time": "2025-03-11T09:21:33.487580",
     "status": "completed"
    },
    "tags": []
   },
   "source": [
    "# Read Data "
   ]
  },
  {
   "cell_type": "code",
   "execution_count": 3,
   "id": "b30e5d7a",
   "metadata": {
    "execution": {
     "iopub.execute_input": "2025-03-11T09:21:33.500494Z",
     "iopub.status.busy": "2025-03-11T09:21:33.500035Z",
     "iopub.status.idle": "2025-03-11T09:21:33.559896Z",
     "shell.execute_reply": "2025-03-11T09:21:33.559004Z"
    },
    "papermill": {
     "duration": 0.067012,
     "end_time": "2025-03-11T09:21:33.561854",
     "exception": false,
     "start_time": "2025-03-11T09:21:33.494842",
     "status": "completed"
    },
    "tags": []
   },
   "outputs": [],
   "source": [
    "netflix = pd.read_csv('/kaggle/input/netflix-dataset/netflix1.csv') "
   ]
  },
  {
   "cell_type": "markdown",
   "id": "2f3c2f33",
   "metadata": {
    "papermill": {
     "duration": 0.004561,
     "end_time": "2025-03-11T09:21:33.571212",
     "exception": false,
     "start_time": "2025-03-11T09:21:33.566651",
     "status": "completed"
    },
    "tags": []
   },
   "source": [
    "# Check Basic Information  "
   ]
  },
  {
   "cell_type": "code",
   "execution_count": 4,
   "id": "ec85c54e",
   "metadata": {
    "execution": {
     "iopub.execute_input": "2025-03-11T09:21:33.581108Z",
     "iopub.status.busy": "2025-03-11T09:21:33.580697Z",
     "iopub.status.idle": "2025-03-11T09:21:33.585562Z",
     "shell.execute_reply": "2025-03-11T09:21:33.584722Z"
    },
    "papermill": {
     "duration": 0.011557,
     "end_time": "2025-03-11T09:21:33.587215",
     "exception": false,
     "start_time": "2025-03-11T09:21:33.575658",
     "status": "completed"
    },
    "tags": []
   },
   "outputs": [
    {
     "data": {
      "text/plain": [
       "(8790, 10)"
      ]
     },
     "execution_count": 4,
     "metadata": {},
     "output_type": "execute_result"
    }
   ],
   "source": [
    "netflix.shape"
   ]
  },
  {
   "cell_type": "code",
   "execution_count": 5,
   "id": "40bc2b7d",
   "metadata": {
    "execution": {
     "iopub.execute_input": "2025-03-11T09:21:33.597340Z",
     "iopub.status.busy": "2025-03-11T09:21:33.596969Z",
     "iopub.status.idle": "2025-03-11T09:21:33.612088Z",
     "shell.execute_reply": "2025-03-11T09:21:33.609441Z"
    },
    "papermill": {
     "duration": 0.023367,
     "end_time": "2025-03-11T09:21:33.615323",
     "exception": false,
     "start_time": "2025-03-11T09:21:33.591956",
     "status": "completed"
    },
    "tags": []
   },
   "outputs": [
    {
     "data": {
      "text/plain": [
       "show_id         object\n",
       "type            object\n",
       "title           object\n",
       "director        object\n",
       "country         object\n",
       "date_added      object\n",
       "release_year     int64\n",
       "rating          object\n",
       "duration        object\n",
       "listed_in       object\n",
       "dtype: object"
      ]
     },
     "execution_count": 5,
     "metadata": {},
     "output_type": "execute_result"
    }
   ],
   "source": [
    "netflix.dtypes"
   ]
  },
  {
   "cell_type": "code",
   "execution_count": 6,
   "id": "f872ebf6",
   "metadata": {
    "execution": {
     "iopub.execute_input": "2025-03-11T09:21:33.625839Z",
     "iopub.status.busy": "2025-03-11T09:21:33.625528Z",
     "iopub.status.idle": "2025-03-11T09:21:33.663608Z",
     "shell.execute_reply": "2025-03-11T09:21:33.662277Z"
    },
    "papermill": {
     "duration": 0.045342,
     "end_time": "2025-03-11T09:21:33.665420",
     "exception": false,
     "start_time": "2025-03-11T09:21:33.620078",
     "status": "completed"
    },
    "tags": []
   },
   "outputs": [
    {
     "name": "stdout",
     "output_type": "stream",
     "text": [
      "<class 'pandas.core.frame.DataFrame'>\n",
      "RangeIndex: 8790 entries, 0 to 8789\n",
      "Data columns (total 10 columns):\n",
      " #   Column        Non-Null Count  Dtype \n",
      "---  ------        --------------  ----- \n",
      " 0   show_id       8790 non-null   object\n",
      " 1   type          8790 non-null   object\n",
      " 2   title         8790 non-null   object\n",
      " 3   director      8790 non-null   object\n",
      " 4   country       8790 non-null   object\n",
      " 5   date_added    8790 non-null   object\n",
      " 6   release_year  8790 non-null   int64 \n",
      " 7   rating        8790 non-null   object\n",
      " 8   duration      8790 non-null   object\n",
      " 9   listed_in     8790 non-null   object\n",
      "dtypes: int64(1), object(9)\n",
      "memory usage: 686.8+ KB\n"
     ]
    }
   ],
   "source": [
    "netflix.info()"
   ]
  },
  {
   "cell_type": "code",
   "execution_count": 7,
   "id": "37a128f2",
   "metadata": {
    "execution": {
     "iopub.execute_input": "2025-03-11T09:21:33.676618Z",
     "iopub.status.busy": "2025-03-11T09:21:33.676253Z",
     "iopub.status.idle": "2025-03-11T09:21:33.708218Z",
     "shell.execute_reply": "2025-03-11T09:21:33.705724Z"
    },
    "papermill": {
     "duration": 0.041816,
     "end_time": "2025-03-11T09:21:33.712007",
     "exception": false,
     "start_time": "2025-03-11T09:21:33.670191",
     "status": "completed"
    },
    "tags": []
   },
   "outputs": [
    {
     "data": {
      "text/html": [
       "<div>\n",
       "<style scoped>\n",
       "    .dataframe tbody tr th:only-of-type {\n",
       "        vertical-align: middle;\n",
       "    }\n",
       "\n",
       "    .dataframe tbody tr th {\n",
       "        vertical-align: top;\n",
       "    }\n",
       "\n",
       "    .dataframe thead th {\n",
       "        text-align: right;\n",
       "    }\n",
       "</style>\n",
       "<table border=\"1\" class=\"dataframe\">\n",
       "  <thead>\n",
       "    <tr style=\"text-align: right;\">\n",
       "      <th></th>\n",
       "      <th>show_id</th>\n",
       "      <th>type</th>\n",
       "      <th>title</th>\n",
       "      <th>director</th>\n",
       "      <th>country</th>\n",
       "      <th>date_added</th>\n",
       "      <th>release_year</th>\n",
       "      <th>rating</th>\n",
       "      <th>duration</th>\n",
       "      <th>listed_in</th>\n",
       "    </tr>\n",
       "  </thead>\n",
       "  <tbody>\n",
       "    <tr>\n",
       "      <th>0</th>\n",
       "      <td>s1</td>\n",
       "      <td>Movie</td>\n",
       "      <td>Dick Johnson Is Dead</td>\n",
       "      <td>Kirsten Johnson</td>\n",
       "      <td>United States</td>\n",
       "      <td>9/25/2021</td>\n",
       "      <td>2020</td>\n",
       "      <td>PG-13</td>\n",
       "      <td>90 min</td>\n",
       "      <td>Documentaries</td>\n",
       "    </tr>\n",
       "    <tr>\n",
       "      <th>1</th>\n",
       "      <td>s3</td>\n",
       "      <td>TV Show</td>\n",
       "      <td>Ganglands</td>\n",
       "      <td>Julien Leclercq</td>\n",
       "      <td>France</td>\n",
       "      <td>9/24/2021</td>\n",
       "      <td>2021</td>\n",
       "      <td>TV-MA</td>\n",
       "      <td>1 Season</td>\n",
       "      <td>Crime TV Shows, International TV Shows, TV Act...</td>\n",
       "    </tr>\n",
       "    <tr>\n",
       "      <th>2</th>\n",
       "      <td>s6</td>\n",
       "      <td>TV Show</td>\n",
       "      <td>Midnight Mass</td>\n",
       "      <td>Mike Flanagan</td>\n",
       "      <td>United States</td>\n",
       "      <td>9/24/2021</td>\n",
       "      <td>2021</td>\n",
       "      <td>TV-MA</td>\n",
       "      <td>1 Season</td>\n",
       "      <td>TV Dramas, TV Horror, TV Mysteries</td>\n",
       "    </tr>\n",
       "    <tr>\n",
       "      <th>3</th>\n",
       "      <td>s14</td>\n",
       "      <td>Movie</td>\n",
       "      <td>Confessions of an Invisible Girl</td>\n",
       "      <td>Bruno Garotti</td>\n",
       "      <td>Brazil</td>\n",
       "      <td>9/22/2021</td>\n",
       "      <td>2021</td>\n",
       "      <td>TV-PG</td>\n",
       "      <td>91 min</td>\n",
       "      <td>Children &amp; Family Movies, Comedies</td>\n",
       "    </tr>\n",
       "    <tr>\n",
       "      <th>4</th>\n",
       "      <td>s8</td>\n",
       "      <td>Movie</td>\n",
       "      <td>Sankofa</td>\n",
       "      <td>Haile Gerima</td>\n",
       "      <td>United States</td>\n",
       "      <td>9/24/2021</td>\n",
       "      <td>1993</td>\n",
       "      <td>TV-MA</td>\n",
       "      <td>125 min</td>\n",
       "      <td>Dramas, Independent Movies, International Movies</td>\n",
       "    </tr>\n",
       "    <tr>\n",
       "      <th>5</th>\n",
       "      <td>s9</td>\n",
       "      <td>TV Show</td>\n",
       "      <td>The Great British Baking Show</td>\n",
       "      <td>Andy Devonshire</td>\n",
       "      <td>United Kingdom</td>\n",
       "      <td>9/24/2021</td>\n",
       "      <td>2021</td>\n",
       "      <td>TV-14</td>\n",
       "      <td>9 Seasons</td>\n",
       "      <td>British TV Shows, Reality TV</td>\n",
       "    </tr>\n",
       "    <tr>\n",
       "      <th>6</th>\n",
       "      <td>s10</td>\n",
       "      <td>Movie</td>\n",
       "      <td>The Starling</td>\n",
       "      <td>Theodore Melfi</td>\n",
       "      <td>United States</td>\n",
       "      <td>9/24/2021</td>\n",
       "      <td>2021</td>\n",
       "      <td>PG-13</td>\n",
       "      <td>104 min</td>\n",
       "      <td>Comedies, Dramas</td>\n",
       "    </tr>\n",
       "    <tr>\n",
       "      <th>7</th>\n",
       "      <td>s939</td>\n",
       "      <td>Movie</td>\n",
       "      <td>Motu Patlu in the Game of Zones</td>\n",
       "      <td>Suhas Kadav</td>\n",
       "      <td>India</td>\n",
       "      <td>5/1/2021</td>\n",
       "      <td>2019</td>\n",
       "      <td>TV-Y7</td>\n",
       "      <td>87 min</td>\n",
       "      <td>Children &amp; Family Movies, Comedies, Music &amp; Mu...</td>\n",
       "    </tr>\n",
       "    <tr>\n",
       "      <th>8</th>\n",
       "      <td>s13</td>\n",
       "      <td>Movie</td>\n",
       "      <td>Je Suis Karl</td>\n",
       "      <td>Christian Schwochow</td>\n",
       "      <td>Germany</td>\n",
       "      <td>9/23/2021</td>\n",
       "      <td>2021</td>\n",
       "      <td>TV-MA</td>\n",
       "      <td>127 min</td>\n",
       "      <td>Dramas, International Movies</td>\n",
       "    </tr>\n",
       "    <tr>\n",
       "      <th>9</th>\n",
       "      <td>s940</td>\n",
       "      <td>Movie</td>\n",
       "      <td>Motu Patlu in Wonderland</td>\n",
       "      <td>Suhas Kadav</td>\n",
       "      <td>India</td>\n",
       "      <td>5/1/2021</td>\n",
       "      <td>2013</td>\n",
       "      <td>TV-Y7</td>\n",
       "      <td>76 min</td>\n",
       "      <td>Children &amp; Family Movies, Music &amp; Musicals</td>\n",
       "    </tr>\n",
       "  </tbody>\n",
       "</table>\n",
       "</div>"
      ],
      "text/plain": [
       "  show_id     type                             title             director  \\\n",
       "0      s1    Movie              Dick Johnson Is Dead      Kirsten Johnson   \n",
       "1      s3  TV Show                         Ganglands      Julien Leclercq   \n",
       "2      s6  TV Show                     Midnight Mass        Mike Flanagan   \n",
       "3     s14    Movie  Confessions of an Invisible Girl        Bruno Garotti   \n",
       "4      s8    Movie                           Sankofa         Haile Gerima   \n",
       "5      s9  TV Show     The Great British Baking Show      Andy Devonshire   \n",
       "6     s10    Movie                      The Starling       Theodore Melfi   \n",
       "7    s939    Movie   Motu Patlu in the Game of Zones          Suhas Kadav   \n",
       "8     s13    Movie                      Je Suis Karl  Christian Schwochow   \n",
       "9    s940    Movie          Motu Patlu in Wonderland          Suhas Kadav   \n",
       "\n",
       "          country date_added  release_year rating   duration  \\\n",
       "0   United States  9/25/2021          2020  PG-13     90 min   \n",
       "1          France  9/24/2021          2021  TV-MA   1 Season   \n",
       "2   United States  9/24/2021          2021  TV-MA   1 Season   \n",
       "3          Brazil  9/22/2021          2021  TV-PG     91 min   \n",
       "4   United States  9/24/2021          1993  TV-MA    125 min   \n",
       "5  United Kingdom  9/24/2021          2021  TV-14  9 Seasons   \n",
       "6   United States  9/24/2021          2021  PG-13    104 min   \n",
       "7           India   5/1/2021          2019  TV-Y7     87 min   \n",
       "8         Germany  9/23/2021          2021  TV-MA    127 min   \n",
       "9           India   5/1/2021          2013  TV-Y7     76 min   \n",
       "\n",
       "                                           listed_in  \n",
       "0                                      Documentaries  \n",
       "1  Crime TV Shows, International TV Shows, TV Act...  \n",
       "2                 TV Dramas, TV Horror, TV Mysteries  \n",
       "3                 Children & Family Movies, Comedies  \n",
       "4   Dramas, Independent Movies, International Movies  \n",
       "5                       British TV Shows, Reality TV  \n",
       "6                                   Comedies, Dramas  \n",
       "7  Children & Family Movies, Comedies, Music & Mu...  \n",
       "8                       Dramas, International Movies  \n",
       "9         Children & Family Movies, Music & Musicals  "
      ]
     },
     "execution_count": 7,
     "metadata": {},
     "output_type": "execute_result"
    }
   ],
   "source": [
    "netflix.head(10)"
   ]
  },
  {
   "cell_type": "markdown",
   "id": "e10b2e03",
   "metadata": {
    "papermill": {
     "duration": 0.004172,
     "end_time": "2025-03-11T09:21:33.721315",
     "exception": false,
     "start_time": "2025-03-11T09:21:33.717143",
     "status": "completed"
    },
    "tags": []
   },
   "source": [
    " # **Data Cleaning & Exploration** "
   ]
  },
  {
   "cell_type": "markdown",
   "id": "d838289b",
   "metadata": {
    "papermill": {
     "duration": 0.004033,
     "end_time": "2025-03-11T09:21:33.729649",
     "exception": false,
     "start_time": "2025-03-11T09:21:33.725616",
     "status": "completed"
    },
    "tags": []
   },
   "source": [
    "# 1. show_id column "
   ]
  },
  {
   "cell_type": "code",
   "execution_count": 8,
   "id": "a1dcbc5e",
   "metadata": {
    "execution": {
     "iopub.execute_input": "2025-03-11T09:21:33.739230Z",
     "iopub.status.busy": "2025-03-11T09:21:33.738859Z",
     "iopub.status.idle": "2025-03-11T09:21:33.746821Z",
     "shell.execute_reply": "2025-03-11T09:21:33.744950Z"
    },
    "papermill": {
     "duration": 0.015048,
     "end_time": "2025-03-11T09:21:33.748939",
     "exception": false,
     "start_time": "2025-03-11T09:21:33.733891",
     "status": "completed"
    },
    "tags": []
   },
   "outputs": [
    {
     "data": {
      "text/plain": [
       "0"
      ]
     },
     "execution_count": 8,
     "metadata": {},
     "output_type": "execute_result"
    }
   ],
   "source": [
    "# Check Duplicated ID:   \n",
    "\n",
    "netflix['show_id'].duplicated().sum() "
   ]
  },
  {
   "cell_type": "code",
   "execution_count": 9,
   "id": "8585069a",
   "metadata": {
    "execution": {
     "iopub.execute_input": "2025-03-11T09:21:33.761378Z",
     "iopub.status.busy": "2025-03-11T09:21:33.760996Z",
     "iopub.status.idle": "2025-03-11T09:21:33.771687Z",
     "shell.execute_reply": "2025-03-11T09:21:33.770285Z"
    },
    "papermill": {
     "duration": 0.018444,
     "end_time": "2025-03-11T09:21:33.773451",
     "exception": false,
     "start_time": "2025-03-11T09:21:33.755007",
     "status": "completed"
    },
    "tags": []
   },
   "outputs": [],
   "source": [
    "# Delete show_id column:  \n",
    "\n",
    "netflix = netflix.drop(['show_id'], axis = 1) "
   ]
  },
  {
   "cell_type": "markdown",
   "id": "9dd61757",
   "metadata": {
    "papermill": {
     "duration": 0.00393,
     "end_time": "2025-03-11T09:21:33.782288",
     "exception": false,
     "start_time": "2025-03-11T09:21:33.778358",
     "status": "completed"
    },
    "tags": []
   },
   "source": [
    "# 2. type column"
   ]
  },
  {
   "cell_type": "code",
   "execution_count": 10,
   "id": "de0e941d",
   "metadata": {
    "execution": {
     "iopub.execute_input": "2025-03-11T09:21:33.794851Z",
     "iopub.status.busy": "2025-03-11T09:21:33.793569Z",
     "iopub.status.idle": "2025-03-11T09:21:33.803424Z",
     "shell.execute_reply": "2025-03-11T09:21:33.802228Z"
    },
    "papermill": {
     "duration": 0.018738,
     "end_time": "2025-03-11T09:21:33.805622",
     "exception": false,
     "start_time": "2025-03-11T09:21:33.786884",
     "status": "completed"
    },
    "tags": []
   },
   "outputs": [
    {
     "data": {
      "text/plain": [
       "type\n",
       "Movie      6126\n",
       "TV Show    2664\n",
       "Name: count, dtype: int64"
      ]
     },
     "execution_count": 10,
     "metadata": {},
     "output_type": "execute_result"
    }
   ],
   "source": [
    "# Count the Value of Each Type: \n",
    "\n",
    "netflix['type'].value_counts()"
   ]
  },
  {
   "cell_type": "code",
   "execution_count": 11,
   "id": "2ddbd3a3",
   "metadata": {
    "execution": {
     "iopub.execute_input": "2025-03-11T09:21:33.816434Z",
     "iopub.status.busy": "2025-03-11T09:21:33.816087Z",
     "iopub.status.idle": "2025-03-11T09:21:33.823837Z",
     "shell.execute_reply": "2025-03-11T09:21:33.822803Z"
    },
    "papermill": {
     "duration": 0.014452,
     "end_time": "2025-03-11T09:21:33.825288",
     "exception": false,
     "start_time": "2025-03-11T09:21:33.810836",
     "status": "completed"
    },
    "tags": []
   },
   "outputs": [
    {
     "data": {
      "text/plain": [
       "type\n",
       "Movie      0.696928\n",
       "TV Show    0.303072\n",
       "Name: proportion, dtype: float64"
      ]
     },
     "execution_count": 11,
     "metadata": {},
     "output_type": "execute_result"
    }
   ],
   "source": [
    "# The proportion of each unique value relative to the total number of values: \n",
    "\n",
    "netflix['type'].value_counts(normalize = 1) "
   ]
  },
  {
   "cell_type": "code",
   "execution_count": 12,
   "id": "724cf594",
   "metadata": {
    "execution": {
     "iopub.execute_input": "2025-03-11T09:21:33.837594Z",
     "iopub.status.busy": "2025-03-11T09:21:33.837027Z",
     "iopub.status.idle": "2025-03-11T09:21:36.620237Z",
     "shell.execute_reply": "2025-03-11T09:21:36.618944Z"
    },
    "papermill": {
     "duration": 2.790563,
     "end_time": "2025-03-11T09:21:36.621769",
     "exception": false,
     "start_time": "2025-03-11T09:21:33.831206",
     "status": "completed"
    },
    "tags": []
   },
   "outputs": [
    {
     "data": {
      "text/html": [
       "<html>\n",
       "<head><meta charset=\"utf-8\" /></head>\n",
       "<body>\n",
       "    <div>            <script src=\"https://cdnjs.cloudflare.com/ajax/libs/mathjax/2.7.5/MathJax.js?config=TeX-AMS-MML_SVG\"></script><script type=\"text/javascript\">if (window.MathJax && window.MathJax.Hub && window.MathJax.Hub.Config) {window.MathJax.Hub.Config({SVG: {font: \"STIX-Web\"}});}</script>                <script type=\"text/javascript\">window.PlotlyConfig = {MathJaxConfig: 'local'};</script>\n",
       "        <script charset=\"utf-8\" src=\"https://cdn.plot.ly/plotly-2.35.2.min.js\"></script>                <div id=\"25fe34d2-19d3-4db6-8afd-2c600521d93c\" class=\"plotly-graph-div\" style=\"height:525px; width:100%;\"></div>            <script type=\"text/javascript\">                                    window.PLOTLYENV=window.PLOTLYENV || {};                                    if (document.getElementById(\"25fe34d2-19d3-4db6-8afd-2c600521d93c\")) {                    Plotly.newPlot(                        \"25fe34d2-19d3-4db6-8afd-2c600521d93c\",                        [{\"alignmentgroup\":\"True\",\"hovertemplate\":\"type=%{x}\\u003cbr\\u003eFrequency=%{y}\\u003cextra\\u003e\\u003c\\u002fextra\\u003e\",\"legendgroup\":\"Movie\",\"marker\":{\"color\":\"#222\",\"pattern\":{\"shape\":\"\"}},\"name\":\"Movie\",\"offsetgroup\":\"Movie\",\"orientation\":\"v\",\"showlegend\":true,\"textposition\":\"auto\",\"texttemplate\":\"%{y}\",\"x\":[\"Movie\"],\"xaxis\":\"x\",\"y\":[6126],\"yaxis\":\"y\",\"type\":\"bar\",\"insidetextfont\":{\"family\":\"consolas\",\"size\":20}},{\"alignmentgroup\":\"True\",\"hovertemplate\":\"type=%{x}\\u003cbr\\u003eFrequency=%{y}\\u003cextra\\u003e\\u003c\\u002fextra\\u003e\",\"legendgroup\":\"TV Show\",\"marker\":{\"color\":\"#E50914\",\"pattern\":{\"shape\":\"\"}},\"name\":\"TV Show\",\"offsetgroup\":\"TV Show\",\"orientation\":\"v\",\"showlegend\":true,\"textposition\":\"auto\",\"texttemplate\":\"%{y}\",\"x\":[\"TV Show\"],\"xaxis\":\"x\",\"y\":[2664],\"yaxis\":\"y\",\"type\":\"bar\",\"insidetextfont\":{\"family\":\"consolas\",\"size\":20}}],                        {\"template\":{\"data\":{\"histogram2dcontour\":[{\"type\":\"histogram2dcontour\",\"colorbar\":{\"outlinewidth\":0,\"ticks\":\"\"},\"colorscale\":[[0.0,\"#0d0887\"],[0.1111111111111111,\"#46039f\"],[0.2222222222222222,\"#7201a8\"],[0.3333333333333333,\"#9c179e\"],[0.4444444444444444,\"#bd3786\"],[0.5555555555555556,\"#d8576b\"],[0.6666666666666666,\"#ed7953\"],[0.7777777777777778,\"#fb9f3a\"],[0.8888888888888888,\"#fdca26\"],[1.0,\"#f0f921\"]]}],\"choropleth\":[{\"type\":\"choropleth\",\"colorbar\":{\"outlinewidth\":0,\"ticks\":\"\"}}],\"histogram2d\":[{\"type\":\"histogram2d\",\"colorbar\":{\"outlinewidth\":0,\"ticks\":\"\"},\"colorscale\":[[0.0,\"#0d0887\"],[0.1111111111111111,\"#46039f\"],[0.2222222222222222,\"#7201a8\"],[0.3333333333333333,\"#9c179e\"],[0.4444444444444444,\"#bd3786\"],[0.5555555555555556,\"#d8576b\"],[0.6666666666666666,\"#ed7953\"],[0.7777777777777778,\"#fb9f3a\"],[0.8888888888888888,\"#fdca26\"],[1.0,\"#f0f921\"]]}],\"heatmap\":[{\"type\":\"heatmap\",\"colorbar\":{\"outlinewidth\":0,\"ticks\":\"\"},\"colorscale\":[[0.0,\"#0d0887\"],[0.1111111111111111,\"#46039f\"],[0.2222222222222222,\"#7201a8\"],[0.3333333333333333,\"#9c179e\"],[0.4444444444444444,\"#bd3786\"],[0.5555555555555556,\"#d8576b\"],[0.6666666666666666,\"#ed7953\"],[0.7777777777777778,\"#fb9f3a\"],[0.8888888888888888,\"#fdca26\"],[1.0,\"#f0f921\"]]}],\"heatmapgl\":[{\"type\":\"heatmapgl\",\"colorbar\":{\"outlinewidth\":0,\"ticks\":\"\"},\"colorscale\":[[0.0,\"#0d0887\"],[0.1111111111111111,\"#46039f\"],[0.2222222222222222,\"#7201a8\"],[0.3333333333333333,\"#9c179e\"],[0.4444444444444444,\"#bd3786\"],[0.5555555555555556,\"#d8576b\"],[0.6666666666666666,\"#ed7953\"],[0.7777777777777778,\"#fb9f3a\"],[0.8888888888888888,\"#fdca26\"],[1.0,\"#f0f921\"]]}],\"contourcarpet\":[{\"type\":\"contourcarpet\",\"colorbar\":{\"outlinewidth\":0,\"ticks\":\"\"}}],\"contour\":[{\"type\":\"contour\",\"colorbar\":{\"outlinewidth\":0,\"ticks\":\"\"},\"colorscale\":[[0.0,\"#0d0887\"],[0.1111111111111111,\"#46039f\"],[0.2222222222222222,\"#7201a8\"],[0.3333333333333333,\"#9c179e\"],[0.4444444444444444,\"#bd3786\"],[0.5555555555555556,\"#d8576b\"],[0.6666666666666666,\"#ed7953\"],[0.7777777777777778,\"#fb9f3a\"],[0.8888888888888888,\"#fdca26\"],[1.0,\"#f0f921\"]]}],\"surface\":[{\"type\":\"surface\",\"colorbar\":{\"outlinewidth\":0,\"ticks\":\"\"},\"colorscale\":[[0.0,\"#0d0887\"],[0.1111111111111111,\"#46039f\"],[0.2222222222222222,\"#7201a8\"],[0.3333333333333333,\"#9c179e\"],[0.4444444444444444,\"#bd3786\"],[0.5555555555555556,\"#d8576b\"],[0.6666666666666666,\"#ed7953\"],[0.7777777777777778,\"#fb9f3a\"],[0.8888888888888888,\"#fdca26\"],[1.0,\"#f0f921\"]]}],\"mesh3d\":[{\"type\":\"mesh3d\",\"colorbar\":{\"outlinewidth\":0,\"ticks\":\"\"}}],\"scatter\":[{\"fillpattern\":{\"fillmode\":\"overlay\",\"size\":10,\"solidity\":0.2},\"type\":\"scatter\"}],\"parcoords\":[{\"type\":\"parcoords\",\"line\":{\"colorbar\":{\"outlinewidth\":0,\"ticks\":\"\"}}}],\"scatterpolargl\":[{\"type\":\"scatterpolargl\",\"marker\":{\"colorbar\":{\"outlinewidth\":0,\"ticks\":\"\"}}}],\"bar\":[{\"error_x\":{\"color\":\"#2a3f5f\"},\"error_y\":{\"color\":\"#2a3f5f\"},\"marker\":{\"line\":{\"color\":\"#E5ECF6\",\"width\":0.5},\"pattern\":{\"fillmode\":\"overlay\",\"size\":10,\"solidity\":0.2}},\"type\":\"bar\"}],\"scattergeo\":[{\"type\":\"scattergeo\",\"marker\":{\"colorbar\":{\"outlinewidth\":0,\"ticks\":\"\"}}}],\"scatterpolar\":[{\"type\":\"scatterpolar\",\"marker\":{\"colorbar\":{\"outlinewidth\":0,\"ticks\":\"\"}}}],\"histogram\":[{\"marker\":{\"pattern\":{\"fillmode\":\"overlay\",\"size\":10,\"solidity\":0.2}},\"type\":\"histogram\"}],\"scattergl\":[{\"type\":\"scattergl\",\"marker\":{\"colorbar\":{\"outlinewidth\":0,\"ticks\":\"\"}}}],\"scatter3d\":[{\"type\":\"scatter3d\",\"line\":{\"colorbar\":{\"outlinewidth\":0,\"ticks\":\"\"}},\"marker\":{\"colorbar\":{\"outlinewidth\":0,\"ticks\":\"\"}}}],\"scattermapbox\":[{\"type\":\"scattermapbox\",\"marker\":{\"colorbar\":{\"outlinewidth\":0,\"ticks\":\"\"}}}],\"scatterternary\":[{\"type\":\"scatterternary\",\"marker\":{\"colorbar\":{\"outlinewidth\":0,\"ticks\":\"\"}}}],\"scattercarpet\":[{\"type\":\"scattercarpet\",\"marker\":{\"colorbar\":{\"outlinewidth\":0,\"ticks\":\"\"}}}],\"carpet\":[{\"aaxis\":{\"endlinecolor\":\"#2a3f5f\",\"gridcolor\":\"white\",\"linecolor\":\"white\",\"minorgridcolor\":\"white\",\"startlinecolor\":\"#2a3f5f\"},\"baxis\":{\"endlinecolor\":\"#2a3f5f\",\"gridcolor\":\"white\",\"linecolor\":\"white\",\"minorgridcolor\":\"white\",\"startlinecolor\":\"#2a3f5f\"},\"type\":\"carpet\"}],\"table\":[{\"cells\":{\"fill\":{\"color\":\"#EBF0F8\"},\"line\":{\"color\":\"white\"}},\"header\":{\"fill\":{\"color\":\"#C8D4E3\"},\"line\":{\"color\":\"white\"}},\"type\":\"table\"}],\"barpolar\":[{\"marker\":{\"line\":{\"color\":\"#E5ECF6\",\"width\":0.5},\"pattern\":{\"fillmode\":\"overlay\",\"size\":10,\"solidity\":0.2}},\"type\":\"barpolar\"}],\"pie\":[{\"automargin\":true,\"type\":\"pie\"}]},\"layout\":{\"autotypenumbers\":\"strict\",\"colorway\":[\"#636efa\",\"#EF553B\",\"#00cc96\",\"#ab63fa\",\"#FFA15A\",\"#19d3f3\",\"#FF6692\",\"#B6E880\",\"#FF97FF\",\"#FECB52\"],\"font\":{\"color\":\"#2a3f5f\"},\"hovermode\":\"closest\",\"hoverlabel\":{\"align\":\"left\"},\"paper_bgcolor\":\"white\",\"plot_bgcolor\":\"#E5ECF6\",\"polar\":{\"bgcolor\":\"#E5ECF6\",\"angularaxis\":{\"gridcolor\":\"white\",\"linecolor\":\"white\",\"ticks\":\"\"},\"radialaxis\":{\"gridcolor\":\"white\",\"linecolor\":\"white\",\"ticks\":\"\"}},\"ternary\":{\"bgcolor\":\"#E5ECF6\",\"aaxis\":{\"gridcolor\":\"white\",\"linecolor\":\"white\",\"ticks\":\"\"},\"baxis\":{\"gridcolor\":\"white\",\"linecolor\":\"white\",\"ticks\":\"\"},\"caxis\":{\"gridcolor\":\"white\",\"linecolor\":\"white\",\"ticks\":\"\"}},\"coloraxis\":{\"colorbar\":{\"outlinewidth\":0,\"ticks\":\"\"}},\"colorscale\":{\"sequential\":[[0.0,\"#0d0887\"],[0.1111111111111111,\"#46039f\"],[0.2222222222222222,\"#7201a8\"],[0.3333333333333333,\"#9c179e\"],[0.4444444444444444,\"#bd3786\"],[0.5555555555555556,\"#d8576b\"],[0.6666666666666666,\"#ed7953\"],[0.7777777777777778,\"#fb9f3a\"],[0.8888888888888888,\"#fdca26\"],[1.0,\"#f0f921\"]],\"sequentialminus\":[[0.0,\"#0d0887\"],[0.1111111111111111,\"#46039f\"],[0.2222222222222222,\"#7201a8\"],[0.3333333333333333,\"#9c179e\"],[0.4444444444444444,\"#bd3786\"],[0.5555555555555556,\"#d8576b\"],[0.6666666666666666,\"#ed7953\"],[0.7777777777777778,\"#fb9f3a\"],[0.8888888888888888,\"#fdca26\"],[1.0,\"#f0f921\"]],\"diverging\":[[0,\"#8e0152\"],[0.1,\"#c51b7d\"],[0.2,\"#de77ae\"],[0.3,\"#f1b6da\"],[0.4,\"#fde0ef\"],[0.5,\"#f7f7f7\"],[0.6,\"#e6f5d0\"],[0.7,\"#b8e186\"],[0.8,\"#7fbc41\"],[0.9,\"#4d9221\"],[1,\"#276419\"]]},\"xaxis\":{\"gridcolor\":\"white\",\"linecolor\":\"white\",\"ticks\":\"\",\"title\":{\"standoff\":15},\"zerolinecolor\":\"white\",\"automargin\":true,\"zerolinewidth\":2},\"yaxis\":{\"gridcolor\":\"white\",\"linecolor\":\"white\",\"ticks\":\"\",\"title\":{\"standoff\":15},\"zerolinecolor\":\"white\",\"automargin\":true,\"zerolinewidth\":2},\"scene\":{\"xaxis\":{\"backgroundcolor\":\"#E5ECF6\",\"gridcolor\":\"white\",\"linecolor\":\"white\",\"showbackground\":true,\"ticks\":\"\",\"zerolinecolor\":\"white\",\"gridwidth\":2},\"yaxis\":{\"backgroundcolor\":\"#E5ECF6\",\"gridcolor\":\"white\",\"linecolor\":\"white\",\"showbackground\":true,\"ticks\":\"\",\"zerolinecolor\":\"white\",\"gridwidth\":2},\"zaxis\":{\"backgroundcolor\":\"#E5ECF6\",\"gridcolor\":\"white\",\"linecolor\":\"white\",\"showbackground\":true,\"ticks\":\"\",\"zerolinecolor\":\"white\",\"gridwidth\":2}},\"shapedefaults\":{\"line\":{\"color\":\"#2a3f5f\"}},\"annotationdefaults\":{\"arrowcolor\":\"#2a3f5f\",\"arrowhead\":0,\"arrowwidth\":1},\"geo\":{\"bgcolor\":\"white\",\"landcolor\":\"#E5ECF6\",\"subunitcolor\":\"white\",\"showland\":true,\"showlakes\":true,\"lakecolor\":\"white\"},\"title\":{\"x\":0.05},\"mapbox\":{\"style\":\"light\"}}},\"xaxis\":{\"anchor\":\"y\",\"domain\":[0.0,1.0],\"title\":{\"text\":\"type\"},\"categoryorder\":\"array\",\"categoryarray\":[\"Movie\",\"TV Show\"]},\"yaxis\":{\"anchor\":\"x\",\"domain\":[0.0,1.0],\"title\":{\"text\":\"Frequency\"}},\"legend\":{\"title\":{\"text\":\"type\"},\"tracegroupgap\":0},\"title\":{\"text\":\"Frequency of Show Type\"},\"barmode\":\"relative\"},                        {\"responsive\": true}                    ).then(function(){\n",
       "                            \n",
       "var gd = document.getElementById('25fe34d2-19d3-4db6-8afd-2c600521d93c');\n",
       "var x = new MutationObserver(function (mutations, observer) {{\n",
       "        var display = window.getComputedStyle(gd).display;\n",
       "        if (!display || display === 'none') {{\n",
       "            console.log([gd, 'removed!']);\n",
       "            Plotly.purge(gd);\n",
       "            observer.disconnect();\n",
       "        }}\n",
       "}});\n",
       "\n",
       "// Listen for the removal of the full notebook cells\n",
       "var notebookContainer = gd.closest('#notebook-container');\n",
       "if (notebookContainer) {{\n",
       "    x.observe(notebookContainer, {childList: true});\n",
       "}}\n",
       "\n",
       "// Listen for the clearing of the current output cell\n",
       "var outputEl = gd.closest('.output');\n",
       "if (outputEl) {{\n",
       "    x.observe(outputEl, {childList: true});\n",
       "}}\n",
       "\n",
       "                        })                };                            </script>        </div>\n",
       "</body>\n",
       "</html>"
      ]
     },
     "metadata": {},
     "output_type": "display_data"
    }
   ],
   "source": [
    "# Draw a Frequency Table of Type Column: \n",
    "\n",
    "type_of_shows = netflix['type'].value_counts() \n",
    "\n",
    "fig = px.bar(data_frame = type_of_shows, \n",
    "             x = type_of_shows.index, \n",
    "             y = type_of_shows, \n",
    "             color = type_of_shows.index, \n",
    "             color_discrete_sequence = ['#222', '#E50914'], \n",
    "             text_auto = True, \n",
    "             title = 'Frequency of Show Type', \n",
    "             labels = {'index': 'Type', \n",
    "                      'y': 'Frequency'\n",
    "                     }) \n",
    "\n",
    "fig.update_traces(insidetextfont = {\n",
    "                                    'family' : 'consolas',\n",
    "                                    'size': 20 \n",
    "})\n",
    "\n",
    "fig"
   ]
  },
  {
   "cell_type": "markdown",
   "id": "a06570fb",
   "metadata": {
    "papermill": {
     "duration": 0.009701,
     "end_time": "2025-03-11T09:21:36.638539",
     "exception": false,
     "start_time": "2025-03-11T09:21:36.628838",
     "status": "completed"
    },
    "tags": []
   },
   "source": [
    "# 3.  country column"
   ]
  },
  {
   "cell_type": "code",
   "execution_count": 13,
   "id": "183001e2",
   "metadata": {
    "execution": {
     "iopub.execute_input": "2025-03-11T09:21:36.651212Z",
     "iopub.status.busy": "2025-03-11T09:21:36.650771Z",
     "iopub.status.idle": "2025-03-11T09:21:36.659496Z",
     "shell.execute_reply": "2025-03-11T09:21:36.658125Z"
    },
    "papermill": {
     "duration": 0.017623,
     "end_time": "2025-03-11T09:21:36.661387",
     "exception": false,
     "start_time": "2025-03-11T09:21:36.643764",
     "status": "completed"
    },
    "tags": []
   },
   "outputs": [
    {
     "data": {
      "text/plain": [
       "count              8790\n",
       "unique               86\n",
       "top       United States\n",
       "freq               3240\n",
       "Name: country, dtype: object"
      ]
     },
     "execution_count": 13,
     "metadata": {},
     "output_type": "execute_result"
    }
   ],
   "source": [
    "netflix['country'].describe()"
   ]
  },
  {
   "cell_type": "code",
   "execution_count": 14,
   "id": "a5b4aa96",
   "metadata": {
    "execution": {
     "iopub.execute_input": "2025-03-11T09:21:36.677446Z",
     "iopub.status.busy": "2025-03-11T09:21:36.677010Z",
     "iopub.status.idle": "2025-03-11T09:21:36.686068Z",
     "shell.execute_reply": "2025-03-11T09:21:36.685051Z"
    },
    "papermill": {
     "duration": 0.020021,
     "end_time": "2025-03-11T09:21:36.688102",
     "exception": false,
     "start_time": "2025-03-11T09:21:36.668081",
     "status": "completed"
    },
    "tags": []
   },
   "outputs": [
    {
     "data": {
      "text/plain": [
       "country\n",
       "United States     3240\n",
       "India             1057\n",
       "United Kingdom     638\n",
       "Pakistan           421\n",
       "Not Given          287\n",
       "                  ... \n",
       "Iran                 1\n",
       "West Germany         1\n",
       "Greece               1\n",
       "Zimbabwe             1\n",
       "Soviet Union         1\n",
       "Name: count, Length: 86, dtype: int64"
      ]
     },
     "execution_count": 14,
     "metadata": {},
     "output_type": "execute_result"
    }
   ],
   "source": [
    "# Value Counts of Country Column: \n",
    "\n",
    "netflix['country'].value_counts()  "
   ]
  },
  {
   "cell_type": "markdown",
   "id": "df33cbea",
   "metadata": {
    "papermill": {
     "duration": 0.006174,
     "end_time": "2025-03-11T09:21:36.700709",
     "exception": false,
     "start_time": "2025-03-11T09:21:36.694535",
     "status": "completed"
    },
    "tags": []
   },
   "source": [
    "# 4.date_added column "
   ]
  },
  {
   "cell_type": "code",
   "execution_count": 15,
   "id": "619d3823",
   "metadata": {
    "execution": {
     "iopub.execute_input": "2025-03-11T09:21:36.716794Z",
     "iopub.status.busy": "2025-03-11T09:21:36.716215Z",
     "iopub.status.idle": "2025-03-11T09:21:36.723244Z",
     "shell.execute_reply": "2025-03-11T09:21:36.721549Z"
    },
    "papermill": {
     "duration": 0.017363,
     "end_time": "2025-03-11T09:21:36.725116",
     "exception": false,
     "start_time": "2025-03-11T09:21:36.707753",
     "status": "completed"
    },
    "tags": []
   },
   "outputs": [
    {
     "data": {
      "text/plain": [
       "dtype('O')"
      ]
     },
     "execution_count": 15,
     "metadata": {},
     "output_type": "execute_result"
    }
   ],
   "source": [
    "netflix['date_added'].dtype"
   ]
  },
  {
   "cell_type": "code",
   "execution_count": 16,
   "id": "f52b72f2",
   "metadata": {
    "execution": {
     "iopub.execute_input": "2025-03-11T09:21:36.741671Z",
     "iopub.status.busy": "2025-03-11T09:21:36.741251Z",
     "iopub.status.idle": "2025-03-11T09:21:36.763271Z",
     "shell.execute_reply": "2025-03-11T09:21:36.761247Z"
    },
    "papermill": {
     "duration": 0.032562,
     "end_time": "2025-03-11T09:21:36.765102",
     "exception": false,
     "start_time": "2025-03-11T09:21:36.732540",
     "status": "completed"
    },
    "tags": []
   },
   "outputs": [
    {
     "data": {
      "text/plain": [
       "0      2021-09-25\n",
       "1      2021-09-24\n",
       "2      2021-09-24\n",
       "3      2021-09-22\n",
       "4      2021-09-24\n",
       "          ...    \n",
       "8785   2017-01-17\n",
       "8786   2018-09-13\n",
       "8787   2016-12-15\n",
       "8788   2018-06-23\n",
       "8789   2018-06-07\n",
       "Name: date_added, Length: 8790, dtype: datetime64[ns]"
      ]
     },
     "execution_count": 16,
     "metadata": {},
     "output_type": "execute_result"
    }
   ],
   "source": [
    "# Converting The Data Type From String Into DateTime: \n",
    "\n",
    "netflix['date_added'] = pd.to_datetime(netflix['date_added']) \n",
    "\n",
    "netflix['date_added'] "
   ]
  },
  {
   "cell_type": "code",
   "execution_count": 17,
   "id": "b55c7bfd",
   "metadata": {
    "execution": {
     "iopub.execute_input": "2025-03-11T09:21:36.778363Z",
     "iopub.status.busy": "2025-03-11T09:21:36.778002Z",
     "iopub.status.idle": "2025-03-11T09:21:36.786331Z",
     "shell.execute_reply": "2025-03-11T09:21:36.784715Z"
    },
    "papermill": {
     "duration": 0.016888,
     "end_time": "2025-03-11T09:21:36.788482",
     "exception": false,
     "start_time": "2025-03-11T09:21:36.771594",
     "status": "completed"
    },
    "tags": []
   },
   "outputs": [
    {
     "name": "stdout",
     "output_type": "stream",
     "text": [
      "The oldest added date: 2008-01-01 00:00:00\n",
      "The newest added date: 2021-09-25 00:00:00\n"
     ]
    }
   ],
   "source": [
    "# Check the oldest added_date and newest added_date: \n",
    "\n",
    "print(f\"The oldest added date: {netflix['date_added'].min()}\") \n",
    "print(f\"The newest added date: {netflix['date_added'].max()}\")"
   ]
  },
  {
   "cell_type": "markdown",
   "id": "15eb6645",
   "metadata": {
    "papermill": {
     "duration": 0.005779,
     "end_time": "2025-03-11T09:21:36.800146",
     "exception": false,
     "start_time": "2025-03-11T09:21:36.794367",
     "status": "completed"
    },
    "tags": []
   },
   "source": [
    "# 5. release_year column "
   ]
  },
  {
   "cell_type": "code",
   "execution_count": 18,
   "id": "644667a4",
   "metadata": {
    "execution": {
     "iopub.execute_input": "2025-03-11T09:21:36.814216Z",
     "iopub.status.busy": "2025-03-11T09:21:36.813706Z",
     "iopub.status.idle": "2025-03-11T09:21:36.826631Z",
     "shell.execute_reply": "2025-03-11T09:21:36.824751Z"
    },
    "papermill": {
     "duration": 0.022854,
     "end_time": "2025-03-11T09:21:36.828515",
     "exception": false,
     "start_time": "2025-03-11T09:21:36.805661",
     "status": "completed"
    },
    "tags": []
   },
   "outputs": [
    {
     "data": {
      "text/plain": [
       "release_year\n",
       "2018    1146\n",
       "2017    1030\n",
       "2019    1030\n",
       "2020     953\n",
       "2016     901\n",
       "        ... \n",
       "1966       1\n",
       "1959       1\n",
       "1925       1\n",
       "1947       1\n",
       "1961       1\n",
       "Name: count, Length: 74, dtype: int64"
      ]
     },
     "execution_count": 18,
     "metadata": {},
     "output_type": "execute_result"
    }
   ],
   "source": [
    "# Counts the value: \n",
    "\n",
    "released_year = netflix['release_year'].value_counts() \n",
    "released_year"
   ]
  },
  {
   "cell_type": "code",
   "execution_count": 19,
   "id": "dd03111e",
   "metadata": {
    "execution": {
     "iopub.execute_input": "2025-03-11T09:21:36.842736Z",
     "iopub.status.busy": "2025-03-11T09:21:36.842362Z",
     "iopub.status.idle": "2025-03-11T09:21:36.954516Z",
     "shell.execute_reply": "2025-03-11T09:21:36.953343Z"
    },
    "papermill": {
     "duration": 0.121952,
     "end_time": "2025-03-11T09:21:36.956414",
     "exception": false,
     "start_time": "2025-03-11T09:21:36.834462",
     "status": "completed"
    },
    "tags": []
   },
   "outputs": [
    {
     "data": {
      "text/html": [
       "<html>\n",
       "<head><meta charset=\"utf-8\" /></head>\n",
       "<body>\n",
       "    <div>            <script src=\"https://cdnjs.cloudflare.com/ajax/libs/mathjax/2.7.5/MathJax.js?config=TeX-AMS-MML_SVG\"></script><script type=\"text/javascript\">if (window.MathJax && window.MathJax.Hub && window.MathJax.Hub.Config) {window.MathJax.Hub.Config({SVG: {font: \"STIX-Web\"}});}</script>                <script type=\"text/javascript\">window.PlotlyConfig = {MathJaxConfig: 'local'};</script>\n",
       "        <script charset=\"utf-8\" src=\"https://cdn.plot.ly/plotly-2.35.2.min.js\"></script>                <div id=\"2c708423-e3a7-497f-8b4a-e2774e2e049d\" class=\"plotly-graph-div\" style=\"height:525px; width:100%;\"></div>            <script type=\"text/javascript\">                                    window.PLOTLYENV=window.PLOTLYENV || {};                                    if (document.getElementById(\"2c708423-e3a7-497f-8b4a-e2774e2e049d\")) {                    Plotly.newPlot(                        \"2c708423-e3a7-497f-8b4a-e2774e2e049d\",                        [{\"fillpattern\":{\"shape\":\"\"},\"hovertemplate\":\"release_year=%{x}\\u003cbr\\u003ey=%{y}\\u003cextra\\u003e\\u003c\\u002fextra\\u003e\",\"legendgroup\":\"\",\"line\":{\"color\":\"#636efa\"},\"marker\":{\"symbol\":\"circle\"},\"mode\":\"lines\",\"name\":\"\",\"orientation\":\"v\",\"showlegend\":false,\"stackgroup\":\"1\",\"x\":[2018,2017,2019,2020,2016,2021,2015,2014,2013,2012,2010,2011,2009,2008,2006,2007,2005,2004,2003,2002,2001,1999,1997,2000,1998,1993,1995,1996,1992,1994,1990,1988,1982,1991,1989,1981,1986,1984,1979,1980,1983,1985,1973,1976,1987,1978,1974,1977,1975,1967,1971,1972,1960,1945,1968,1962,1955,1944,1943,1958,1970,1963,1969,1956,1954,1965,1964,1946,1942,1966,1959,1925,1947,1961],\"xaxis\":\"x\",\"y\":[1146,1030,1030,953,901,592,555,352,286,236,192,185,152,135,96,88,80,64,59,51,45,39,38,37,36,28,25,24,23,22,22,18,17,17,16,13,13,12,11,11,11,10,10,9,8,7,7,7,7,5,5,5,4,4,3,3,3,3,3,3,2,2,2,2,2,2,2,2,2,1,1,1,1,1],\"yaxis\":\"y\",\"type\":\"scatter\"}],                        {\"template\":{\"data\":{\"histogram2dcontour\":[{\"type\":\"histogram2dcontour\",\"colorbar\":{\"outlinewidth\":0,\"ticks\":\"\"},\"colorscale\":[[0.0,\"#0d0887\"],[0.1111111111111111,\"#46039f\"],[0.2222222222222222,\"#7201a8\"],[0.3333333333333333,\"#9c179e\"],[0.4444444444444444,\"#bd3786\"],[0.5555555555555556,\"#d8576b\"],[0.6666666666666666,\"#ed7953\"],[0.7777777777777778,\"#fb9f3a\"],[0.8888888888888888,\"#fdca26\"],[1.0,\"#f0f921\"]]}],\"choropleth\":[{\"type\":\"choropleth\",\"colorbar\":{\"outlinewidth\":0,\"ticks\":\"\"}}],\"histogram2d\":[{\"type\":\"histogram2d\",\"colorbar\":{\"outlinewidth\":0,\"ticks\":\"\"},\"colorscale\":[[0.0,\"#0d0887\"],[0.1111111111111111,\"#46039f\"],[0.2222222222222222,\"#7201a8\"],[0.3333333333333333,\"#9c179e\"],[0.4444444444444444,\"#bd3786\"],[0.5555555555555556,\"#d8576b\"],[0.6666666666666666,\"#ed7953\"],[0.7777777777777778,\"#fb9f3a\"],[0.8888888888888888,\"#fdca26\"],[1.0,\"#f0f921\"]]}],\"heatmap\":[{\"type\":\"heatmap\",\"colorbar\":{\"outlinewidth\":0,\"ticks\":\"\"},\"colorscale\":[[0.0,\"#0d0887\"],[0.1111111111111111,\"#46039f\"],[0.2222222222222222,\"#7201a8\"],[0.3333333333333333,\"#9c179e\"],[0.4444444444444444,\"#bd3786\"],[0.5555555555555556,\"#d8576b\"],[0.6666666666666666,\"#ed7953\"],[0.7777777777777778,\"#fb9f3a\"],[0.8888888888888888,\"#fdca26\"],[1.0,\"#f0f921\"]]}],\"heatmapgl\":[{\"type\":\"heatmapgl\",\"colorbar\":{\"outlinewidth\":0,\"ticks\":\"\"},\"colorscale\":[[0.0,\"#0d0887\"],[0.1111111111111111,\"#46039f\"],[0.2222222222222222,\"#7201a8\"],[0.3333333333333333,\"#9c179e\"],[0.4444444444444444,\"#bd3786\"],[0.5555555555555556,\"#d8576b\"],[0.6666666666666666,\"#ed7953\"],[0.7777777777777778,\"#fb9f3a\"],[0.8888888888888888,\"#fdca26\"],[1.0,\"#f0f921\"]]}],\"contourcarpet\":[{\"type\":\"contourcarpet\",\"colorbar\":{\"outlinewidth\":0,\"ticks\":\"\"}}],\"contour\":[{\"type\":\"contour\",\"colorbar\":{\"outlinewidth\":0,\"ticks\":\"\"},\"colorscale\":[[0.0,\"#0d0887\"],[0.1111111111111111,\"#46039f\"],[0.2222222222222222,\"#7201a8\"],[0.3333333333333333,\"#9c179e\"],[0.4444444444444444,\"#bd3786\"],[0.5555555555555556,\"#d8576b\"],[0.6666666666666666,\"#ed7953\"],[0.7777777777777778,\"#fb9f3a\"],[0.8888888888888888,\"#fdca26\"],[1.0,\"#f0f921\"]]}],\"surface\":[{\"type\":\"surface\",\"colorbar\":{\"outlinewidth\":0,\"ticks\":\"\"},\"colorscale\":[[0.0,\"#0d0887\"],[0.1111111111111111,\"#46039f\"],[0.2222222222222222,\"#7201a8\"],[0.3333333333333333,\"#9c179e\"],[0.4444444444444444,\"#bd3786\"],[0.5555555555555556,\"#d8576b\"],[0.6666666666666666,\"#ed7953\"],[0.7777777777777778,\"#fb9f3a\"],[0.8888888888888888,\"#fdca26\"],[1.0,\"#f0f921\"]]}],\"mesh3d\":[{\"type\":\"mesh3d\",\"colorbar\":{\"outlinewidth\":0,\"ticks\":\"\"}}],\"scatter\":[{\"fillpattern\":{\"fillmode\":\"overlay\",\"size\":10,\"solidity\":0.2},\"type\":\"scatter\"}],\"parcoords\":[{\"type\":\"parcoords\",\"line\":{\"colorbar\":{\"outlinewidth\":0,\"ticks\":\"\"}}}],\"scatterpolargl\":[{\"type\":\"scatterpolargl\",\"marker\":{\"colorbar\":{\"outlinewidth\":0,\"ticks\":\"\"}}}],\"bar\":[{\"error_x\":{\"color\":\"#2a3f5f\"},\"error_y\":{\"color\":\"#2a3f5f\"},\"marker\":{\"line\":{\"color\":\"#E5ECF6\",\"width\":0.5},\"pattern\":{\"fillmode\":\"overlay\",\"size\":10,\"solidity\":0.2}},\"type\":\"bar\"}],\"scattergeo\":[{\"type\":\"scattergeo\",\"marker\":{\"colorbar\":{\"outlinewidth\":0,\"ticks\":\"\"}}}],\"scatterpolar\":[{\"type\":\"scatterpolar\",\"marker\":{\"colorbar\":{\"outlinewidth\":0,\"ticks\":\"\"}}}],\"histogram\":[{\"marker\":{\"pattern\":{\"fillmode\":\"overlay\",\"size\":10,\"solidity\":0.2}},\"type\":\"histogram\"}],\"scattergl\":[{\"type\":\"scattergl\",\"marker\":{\"colorbar\":{\"outlinewidth\":0,\"ticks\":\"\"}}}],\"scatter3d\":[{\"type\":\"scatter3d\",\"line\":{\"colorbar\":{\"outlinewidth\":0,\"ticks\":\"\"}},\"marker\":{\"colorbar\":{\"outlinewidth\":0,\"ticks\":\"\"}}}],\"scattermapbox\":[{\"type\":\"scattermapbox\",\"marker\":{\"colorbar\":{\"outlinewidth\":0,\"ticks\":\"\"}}}],\"scatterternary\":[{\"type\":\"scatterternary\",\"marker\":{\"colorbar\":{\"outlinewidth\":0,\"ticks\":\"\"}}}],\"scattercarpet\":[{\"type\":\"scattercarpet\",\"marker\":{\"colorbar\":{\"outlinewidth\":0,\"ticks\":\"\"}}}],\"carpet\":[{\"aaxis\":{\"endlinecolor\":\"#2a3f5f\",\"gridcolor\":\"white\",\"linecolor\":\"white\",\"minorgridcolor\":\"white\",\"startlinecolor\":\"#2a3f5f\"},\"baxis\":{\"endlinecolor\":\"#2a3f5f\",\"gridcolor\":\"white\",\"linecolor\":\"white\",\"minorgridcolor\":\"white\",\"startlinecolor\":\"#2a3f5f\"},\"type\":\"carpet\"}],\"table\":[{\"cells\":{\"fill\":{\"color\":\"#EBF0F8\"},\"line\":{\"color\":\"white\"}},\"header\":{\"fill\":{\"color\":\"#C8D4E3\"},\"line\":{\"color\":\"white\"}},\"type\":\"table\"}],\"barpolar\":[{\"marker\":{\"line\":{\"color\":\"#E5ECF6\",\"width\":0.5},\"pattern\":{\"fillmode\":\"overlay\",\"size\":10,\"solidity\":0.2}},\"type\":\"barpolar\"}],\"pie\":[{\"automargin\":true,\"type\":\"pie\"}]},\"layout\":{\"autotypenumbers\":\"strict\",\"colorway\":[\"#636efa\",\"#EF553B\",\"#00cc96\",\"#ab63fa\",\"#FFA15A\",\"#19d3f3\",\"#FF6692\",\"#B6E880\",\"#FF97FF\",\"#FECB52\"],\"font\":{\"color\":\"#2a3f5f\"},\"hovermode\":\"closest\",\"hoverlabel\":{\"align\":\"left\"},\"paper_bgcolor\":\"white\",\"plot_bgcolor\":\"#E5ECF6\",\"polar\":{\"bgcolor\":\"#E5ECF6\",\"angularaxis\":{\"gridcolor\":\"white\",\"linecolor\":\"white\",\"ticks\":\"\"},\"radialaxis\":{\"gridcolor\":\"white\",\"linecolor\":\"white\",\"ticks\":\"\"}},\"ternary\":{\"bgcolor\":\"#E5ECF6\",\"aaxis\":{\"gridcolor\":\"white\",\"linecolor\":\"white\",\"ticks\":\"\"},\"baxis\":{\"gridcolor\":\"white\",\"linecolor\":\"white\",\"ticks\":\"\"},\"caxis\":{\"gridcolor\":\"white\",\"linecolor\":\"white\",\"ticks\":\"\"}},\"coloraxis\":{\"colorbar\":{\"outlinewidth\":0,\"ticks\":\"\"}},\"colorscale\":{\"sequential\":[[0.0,\"#0d0887\"],[0.1111111111111111,\"#46039f\"],[0.2222222222222222,\"#7201a8\"],[0.3333333333333333,\"#9c179e\"],[0.4444444444444444,\"#bd3786\"],[0.5555555555555556,\"#d8576b\"],[0.6666666666666666,\"#ed7953\"],[0.7777777777777778,\"#fb9f3a\"],[0.8888888888888888,\"#fdca26\"],[1.0,\"#f0f921\"]],\"sequentialminus\":[[0.0,\"#0d0887\"],[0.1111111111111111,\"#46039f\"],[0.2222222222222222,\"#7201a8\"],[0.3333333333333333,\"#9c179e\"],[0.4444444444444444,\"#bd3786\"],[0.5555555555555556,\"#d8576b\"],[0.6666666666666666,\"#ed7953\"],[0.7777777777777778,\"#fb9f3a\"],[0.8888888888888888,\"#fdca26\"],[1.0,\"#f0f921\"]],\"diverging\":[[0,\"#8e0152\"],[0.1,\"#c51b7d\"],[0.2,\"#de77ae\"],[0.3,\"#f1b6da\"],[0.4,\"#fde0ef\"],[0.5,\"#f7f7f7\"],[0.6,\"#e6f5d0\"],[0.7,\"#b8e186\"],[0.8,\"#7fbc41\"],[0.9,\"#4d9221\"],[1,\"#276419\"]]},\"xaxis\":{\"gridcolor\":\"white\",\"linecolor\":\"white\",\"ticks\":\"\",\"title\":{\"standoff\":15},\"zerolinecolor\":\"white\",\"automargin\":true,\"zerolinewidth\":2},\"yaxis\":{\"gridcolor\":\"white\",\"linecolor\":\"white\",\"ticks\":\"\",\"title\":{\"standoff\":15},\"zerolinecolor\":\"white\",\"automargin\":true,\"zerolinewidth\":2},\"scene\":{\"xaxis\":{\"backgroundcolor\":\"#E5ECF6\",\"gridcolor\":\"white\",\"linecolor\":\"white\",\"showbackground\":true,\"ticks\":\"\",\"zerolinecolor\":\"white\",\"gridwidth\":2},\"yaxis\":{\"backgroundcolor\":\"#E5ECF6\",\"gridcolor\":\"white\",\"linecolor\":\"white\",\"showbackground\":true,\"ticks\":\"\",\"zerolinecolor\":\"white\",\"gridwidth\":2},\"zaxis\":{\"backgroundcolor\":\"#E5ECF6\",\"gridcolor\":\"white\",\"linecolor\":\"white\",\"showbackground\":true,\"ticks\":\"\",\"zerolinecolor\":\"white\",\"gridwidth\":2}},\"shapedefaults\":{\"line\":{\"color\":\"#2a3f5f\"}},\"annotationdefaults\":{\"arrowcolor\":\"#2a3f5f\",\"arrowhead\":0,\"arrowwidth\":1},\"geo\":{\"bgcolor\":\"white\",\"landcolor\":\"#E5ECF6\",\"subunitcolor\":\"white\",\"showland\":true,\"showlakes\":true,\"lakecolor\":\"white\"},\"title\":{\"x\":0.05},\"mapbox\":{\"style\":\"light\"}}},\"xaxis\":{\"anchor\":\"y\",\"domain\":[0.0,1.0],\"title\":{\"text\":\"release_year\"}},\"yaxis\":{\"anchor\":\"x\",\"domain\":[0.0,1.0],\"title\":{\"text\":\"y\"}},\"legend\":{\"tracegroupgap\":0},\"margin\":{\"t\":60}},                        {\"responsive\": true}                    ).then(function(){\n",
       "                            \n",
       "var gd = document.getElementById('2c708423-e3a7-497f-8b4a-e2774e2e049d');\n",
       "var x = new MutationObserver(function (mutations, observer) {{\n",
       "        var display = window.getComputedStyle(gd).display;\n",
       "        if (!display || display === 'none') {{\n",
       "            console.log([gd, 'removed!']);\n",
       "            Plotly.purge(gd);\n",
       "            observer.disconnect();\n",
       "        }}\n",
       "}});\n",
       "\n",
       "// Listen for the removal of the full notebook cells\n",
       "var notebookContainer = gd.closest('#notebook-container');\n",
       "if (notebookContainer) {{\n",
       "    x.observe(notebookContainer, {childList: true});\n",
       "}}\n",
       "\n",
       "// Listen for the clearing of the current output cell\n",
       "var outputEl = gd.closest('.output');\n",
       "if (outputEl) {{\n",
       "    x.observe(outputEl, {childList: true});\n",
       "}}\n",
       "\n",
       "                        })                };                            </script>        </div>\n",
       "</body>\n",
       "</html>"
      ]
     },
     "metadata": {},
     "output_type": "display_data"
    }
   ],
   "source": [
    "# Draw an area plot to see how value changes over time: \n",
    "\n",
    "fig = px.area(released_year, x = released_year.index, y = released_year) \n",
    "\n",
    "fig"
   ]
  },
  {
   "cell_type": "code",
   "execution_count": null,
   "id": "5bf2a2ab",
   "metadata": {
    "papermill": {
     "duration": 0.004763,
     "end_time": "2025-03-11T09:21:36.967190",
     "exception": false,
     "start_time": "2025-03-11T09:21:36.962427",
     "status": "completed"
    },
    "tags": []
   },
   "outputs": [],
   "source": []
  }
 ],
 "metadata": {
  "kaggle": {
   "accelerator": "none",
   "dataSources": [
    {
     "datasetId": 6833044,
     "sourceId": 10980115,
     "sourceType": "datasetVersion"
    }
   ],
   "dockerImageVersionId": 30918,
   "isGpuEnabled": false,
   "isInternetEnabled": true,
   "language": "python",
   "sourceType": "notebook"
  },
  "kernelspec": {
   "display_name": "Python 3",
   "language": "python",
   "name": "python3"
  },
  "language_info": {
   "codemirror_mode": {
    "name": "ipython",
    "version": 3
   },
   "file_extension": ".py",
   "mimetype": "text/x-python",
   "name": "python",
   "nbconvert_exporter": "python",
   "pygments_lexer": "ipython3",
   "version": "3.10.12"
  },
  "papermill": {
   "default_parameters": {},
   "duration": 10.009418,
   "end_time": "2025-03-11T09:21:37.895567",
   "environment_variables": {},
   "exception": null,
   "input_path": "__notebook__.ipynb",
   "output_path": "__notebook__.ipynb",
   "parameters": {},
   "start_time": "2025-03-11T09:21:27.886149",
   "version": "2.6.0"
  }
 },
 "nbformat": 4,
 "nbformat_minor": 5
}
