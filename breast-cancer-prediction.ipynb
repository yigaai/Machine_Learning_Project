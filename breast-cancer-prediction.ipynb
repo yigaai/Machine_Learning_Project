{
 "cells": [
  {
   "cell_type": "code",
   "execution_count": 1,
   "id": "e9d825e6",
   "metadata": {
    "execution": {
     "iopub.execute_input": "2025-04-03T10:38:46.709640Z",
     "iopub.status.busy": "2025-04-03T10:38:46.709146Z",
     "iopub.status.idle": "2025-04-03T10:38:48.908667Z",
     "shell.execute_reply": "2025-04-03T10:38:48.907625Z"
    },
    "papermill": {
     "duration": 2.206329,
     "end_time": "2025-04-03T10:38:48.910592",
     "exception": false,
     "start_time": "2025-04-03T10:38:46.704263",
     "status": "completed"
    },
    "tags": []
   },
   "outputs": [],
   "source": [
    "import os\n",
    "import numpy as np \n",
    "import pandas as pd \n",
    "import seaborn as sns\n",
    "import matplotlib.pyplot as plt \n",
    "\n",
    "sns.set()\n",
    "plt.style.use('ggplot') "
   ]
  },
  {
   "cell_type": "code",
   "execution_count": 2,
   "id": "22ed5ac8",
   "metadata": {
    "execution": {
     "iopub.execute_input": "2025-04-03T10:38:48.918270Z",
     "iopub.status.busy": "2025-04-03T10:38:48.917788Z",
     "iopub.status.idle": "2025-04-03T10:38:48.931003Z",
     "shell.execute_reply": "2025-04-03T10:38:48.930188Z"
    },
    "papermill": {
     "duration": 0.018153,
     "end_time": "2025-04-03T10:38:48.932314",
     "exception": false,
     "start_time": "2025-04-03T10:38:48.914161",
     "status": "completed"
    },
    "tags": []
   },
   "outputs": [
    {
     "data": {
      "text/plain": [
       "['breast-cancer.csv']"
      ]
     },
     "execution_count": 2,
     "metadata": {},
     "output_type": "execute_result"
    }
   ],
   "source": [
    "os.listdir('/kaggle/input/breast-cancer-dataset')  "
   ]
  },
  {
   "cell_type": "markdown",
   "id": "f97e9f37",
   "metadata": {
    "papermill": {
     "duration": 0.002764,
     "end_time": "2025-04-03T10:38:48.938139",
     "exception": false,
     "start_time": "2025-04-03T10:38:48.935375",
     "status": "completed"
    },
    "tags": []
   },
   "source": [
    "# Read Data "
   ]
  },
  {
   "cell_type": "code",
   "execution_count": 3,
   "id": "3810e383",
   "metadata": {
    "execution": {
     "iopub.execute_input": "2025-04-03T10:38:48.945068Z",
     "iopub.status.busy": "2025-04-03T10:38:48.944751Z",
     "iopub.status.idle": "2025-04-03T10:38:48.967028Z",
     "shell.execute_reply": "2025-04-03T10:38:48.966009Z"
    },
    "papermill": {
     "duration": 0.027732,
     "end_time": "2025-04-03T10:38:48.968938",
     "exception": false,
     "start_time": "2025-04-03T10:38:48.941206",
     "status": "completed"
    },
    "tags": []
   },
   "outputs": [],
   "source": [
    "ca = pd.read_csv('/kaggle/input/breast-cancer-dataset/breast-cancer.csv') "
   ]
  },
  {
   "cell_type": "markdown",
   "id": "b1e4aabb",
   "metadata": {
    "papermill": {
     "duration": 0.002688,
     "end_time": "2025-04-03T10:38:48.974982",
     "exception": false,
     "start_time": "2025-04-03T10:38:48.972294",
     "status": "completed"
    },
    "tags": []
   },
   "source": [
    "# Check Data "
   ]
  },
  {
   "cell_type": "code",
   "execution_count": 4,
   "id": "0a3f0781",
   "metadata": {
    "execution": {
     "iopub.execute_input": "2025-04-03T10:38:48.981980Z",
     "iopub.status.busy": "2025-04-03T10:38:48.981681Z",
     "iopub.status.idle": "2025-04-03T10:38:49.008603Z",
     "shell.execute_reply": "2025-04-03T10:38:49.007457Z"
    },
    "papermill": {
     "duration": 0.032314,
     "end_time": "2025-04-03T10:38:49.010258",
     "exception": false,
     "start_time": "2025-04-03T10:38:48.977944",
     "status": "completed"
    },
    "tags": []
   },
   "outputs": [
    {
     "name": "stdout",
     "output_type": "stream",
     "text": [
      "<class 'pandas.core.frame.DataFrame'>\n",
      "RangeIndex: 569 entries, 0 to 568\n",
      "Data columns (total 32 columns):\n",
      " #   Column                   Non-Null Count  Dtype  \n",
      "---  ------                   --------------  -----  \n",
      " 0   id                       569 non-null    int64  \n",
      " 1   diagnosis                569 non-null    object \n",
      " 2   radius_mean              569 non-null    float64\n",
      " 3   texture_mean             569 non-null    float64\n",
      " 4   perimeter_mean           569 non-null    float64\n",
      " 5   area_mean                569 non-null    float64\n",
      " 6   smoothness_mean          569 non-null    float64\n",
      " 7   compactness_mean         569 non-null    float64\n",
      " 8   concavity_mean           569 non-null    float64\n",
      " 9   concave points_mean      569 non-null    float64\n",
      " 10  symmetry_mean            569 non-null    float64\n",
      " 11  fractal_dimension_mean   569 non-null    float64\n",
      " 12  radius_se                569 non-null    float64\n",
      " 13  texture_se               569 non-null    float64\n",
      " 14  perimeter_se             569 non-null    float64\n",
      " 15  area_se                  569 non-null    float64\n",
      " 16  smoothness_se            569 non-null    float64\n",
      " 17  compactness_se           569 non-null    float64\n",
      " 18  concavity_se             569 non-null    float64\n",
      " 19  concave points_se        569 non-null    float64\n",
      " 20  symmetry_se              569 non-null    float64\n",
      " 21  fractal_dimension_se     569 non-null    float64\n",
      " 22  radius_worst             569 non-null    float64\n",
      " 23  texture_worst            569 non-null    float64\n",
      " 24  perimeter_worst          569 non-null    float64\n",
      " 25  area_worst               569 non-null    float64\n",
      " 26  smoothness_worst         569 non-null    float64\n",
      " 27  compactness_worst        569 non-null    float64\n",
      " 28  concavity_worst          569 non-null    float64\n",
      " 29  concave points_worst     569 non-null    float64\n",
      " 30  symmetry_worst           569 non-null    float64\n",
      " 31  fractal_dimension_worst  569 non-null    float64\n",
      "dtypes: float64(30), int64(1), object(1)\n",
      "memory usage: 142.4+ KB\n"
     ]
    }
   ],
   "source": [
    "ca.info() "
   ]
  },
  {
   "cell_type": "code",
   "execution_count": 5,
   "id": "f7170f34",
   "metadata": {
    "execution": {
     "iopub.execute_input": "2025-04-03T10:38:49.017212Z",
     "iopub.status.busy": "2025-04-03T10:38:49.016863Z",
     "iopub.status.idle": "2025-04-03T10:38:49.023763Z",
     "shell.execute_reply": "2025-04-03T10:38:49.022752Z"
    },
    "papermill": {
     "duration": 0.011692,
     "end_time": "2025-04-03T10:38:49.025024",
     "exception": false,
     "start_time": "2025-04-03T10:38:49.013332",
     "status": "completed"
    },
    "tags": []
   },
   "outputs": [
    {
     "data": {
      "text/plain": [
       "id                         0\n",
       "diagnosis                  0\n",
       "radius_mean                0\n",
       "texture_mean               0\n",
       "perimeter_mean             0\n",
       "area_mean                  0\n",
       "smoothness_mean            0\n",
       "compactness_mean           0\n",
       "concavity_mean             0\n",
       "concave points_mean        0\n",
       "symmetry_mean              0\n",
       "fractal_dimension_mean     0\n",
       "radius_se                  0\n",
       "texture_se                 0\n",
       "perimeter_se               0\n",
       "area_se                    0\n",
       "smoothness_se              0\n",
       "compactness_se             0\n",
       "concavity_se               0\n",
       "concave points_se          0\n",
       "symmetry_se                0\n",
       "fractal_dimension_se       0\n",
       "radius_worst               0\n",
       "texture_worst              0\n",
       "perimeter_worst            0\n",
       "area_worst                 0\n",
       "smoothness_worst           0\n",
       "compactness_worst          0\n",
       "concavity_worst            0\n",
       "concave points_worst       0\n",
       "symmetry_worst             0\n",
       "fractal_dimension_worst    0\n",
       "dtype: int64"
      ]
     },
     "execution_count": 5,
     "metadata": {},
     "output_type": "execute_result"
    }
   ],
   "source": [
    "ca.isnull().sum() "
   ]
  },
  {
   "cell_type": "code",
   "execution_count": 6,
   "id": "37abfa8b",
   "metadata": {
    "execution": {
     "iopub.execute_input": "2025-04-03T10:38:49.032542Z",
     "iopub.status.busy": "2025-04-03T10:38:49.032297Z",
     "iopub.status.idle": "2025-04-03T10:38:49.067602Z",
     "shell.execute_reply": "2025-04-03T10:38:49.066645Z"
    },
    "papermill": {
     "duration": 0.040691,
     "end_time": "2025-04-03T10:38:49.069113",
     "exception": false,
     "start_time": "2025-04-03T10:38:49.028422",
     "status": "completed"
    },
    "tags": []
   },
   "outputs": [
    {
     "data": {
      "text/html": [
       "<div>\n",
       "<style scoped>\n",
       "    .dataframe tbody tr th:only-of-type {\n",
       "        vertical-align: middle;\n",
       "    }\n",
       "\n",
       "    .dataframe tbody tr th {\n",
       "        vertical-align: top;\n",
       "    }\n",
       "\n",
       "    .dataframe thead th {\n",
       "        text-align: right;\n",
       "    }\n",
       "</style>\n",
       "<table border=\"1\" class=\"dataframe\">\n",
       "  <thead>\n",
       "    <tr style=\"text-align: right;\">\n",
       "      <th></th>\n",
       "      <th>id</th>\n",
       "      <th>diagnosis</th>\n",
       "      <th>radius_mean</th>\n",
       "      <th>texture_mean</th>\n",
       "      <th>perimeter_mean</th>\n",
       "      <th>area_mean</th>\n",
       "      <th>smoothness_mean</th>\n",
       "      <th>compactness_mean</th>\n",
       "      <th>concavity_mean</th>\n",
       "      <th>concave points_mean</th>\n",
       "      <th>...</th>\n",
       "      <th>radius_worst</th>\n",
       "      <th>texture_worst</th>\n",
       "      <th>perimeter_worst</th>\n",
       "      <th>area_worst</th>\n",
       "      <th>smoothness_worst</th>\n",
       "      <th>compactness_worst</th>\n",
       "      <th>concavity_worst</th>\n",
       "      <th>concave points_worst</th>\n",
       "      <th>symmetry_worst</th>\n",
       "      <th>fractal_dimension_worst</th>\n",
       "    </tr>\n",
       "  </thead>\n",
       "  <tbody>\n",
       "    <tr>\n",
       "      <th>373</th>\n",
       "      <td>901288</td>\n",
       "      <td>M</td>\n",
       "      <td>20.64</td>\n",
       "      <td>17.35</td>\n",
       "      <td>134.80</td>\n",
       "      <td>1335.0</td>\n",
       "      <td>0.09446</td>\n",
       "      <td>0.10760</td>\n",
       "      <td>0.15270</td>\n",
       "      <td>0.089410</td>\n",
       "      <td>...</td>\n",
       "      <td>25.370</td>\n",
       "      <td>23.17</td>\n",
       "      <td>166.80</td>\n",
       "      <td>1946.0</td>\n",
       "      <td>0.1562</td>\n",
       "      <td>0.30550</td>\n",
       "      <td>0.415900</td>\n",
       "      <td>0.211200</td>\n",
       "      <td>0.2689</td>\n",
       "      <td>0.07055</td>\n",
       "    </tr>\n",
       "    <tr>\n",
       "      <th>254</th>\n",
       "      <td>886226</td>\n",
       "      <td>M</td>\n",
       "      <td>19.45</td>\n",
       "      <td>19.33</td>\n",
       "      <td>126.50</td>\n",
       "      <td>1169.0</td>\n",
       "      <td>0.10350</td>\n",
       "      <td>0.11880</td>\n",
       "      <td>0.13790</td>\n",
       "      <td>0.085910</td>\n",
       "      <td>...</td>\n",
       "      <td>25.700</td>\n",
       "      <td>24.57</td>\n",
       "      <td>163.10</td>\n",
       "      <td>1972.0</td>\n",
       "      <td>0.1497</td>\n",
       "      <td>0.31610</td>\n",
       "      <td>0.431700</td>\n",
       "      <td>0.199900</td>\n",
       "      <td>0.3379</td>\n",
       "      <td>0.08950</td>\n",
       "    </tr>\n",
       "    <tr>\n",
       "      <th>542</th>\n",
       "      <td>921644</td>\n",
       "      <td>B</td>\n",
       "      <td>14.74</td>\n",
       "      <td>25.42</td>\n",
       "      <td>94.70</td>\n",
       "      <td>668.6</td>\n",
       "      <td>0.08275</td>\n",
       "      <td>0.07214</td>\n",
       "      <td>0.04105</td>\n",
       "      <td>0.030270</td>\n",
       "      <td>...</td>\n",
       "      <td>16.510</td>\n",
       "      <td>32.29</td>\n",
       "      <td>107.40</td>\n",
       "      <td>826.4</td>\n",
       "      <td>0.1060</td>\n",
       "      <td>0.13760</td>\n",
       "      <td>0.161100</td>\n",
       "      <td>0.109500</td>\n",
       "      <td>0.2722</td>\n",
       "      <td>0.06956</td>\n",
       "    </tr>\n",
       "    <tr>\n",
       "      <th>449</th>\n",
       "      <td>911157302</td>\n",
       "      <td>M</td>\n",
       "      <td>21.10</td>\n",
       "      <td>20.52</td>\n",
       "      <td>138.10</td>\n",
       "      <td>1384.0</td>\n",
       "      <td>0.09684</td>\n",
       "      <td>0.11750</td>\n",
       "      <td>0.15720</td>\n",
       "      <td>0.115500</td>\n",
       "      <td>...</td>\n",
       "      <td>25.680</td>\n",
       "      <td>32.07</td>\n",
       "      <td>168.20</td>\n",
       "      <td>2022.0</td>\n",
       "      <td>0.1368</td>\n",
       "      <td>0.31010</td>\n",
       "      <td>0.439900</td>\n",
       "      <td>0.228000</td>\n",
       "      <td>0.2268</td>\n",
       "      <td>0.07425</td>\n",
       "    </tr>\n",
       "    <tr>\n",
       "      <th>395</th>\n",
       "      <td>903811</td>\n",
       "      <td>B</td>\n",
       "      <td>14.06</td>\n",
       "      <td>17.18</td>\n",
       "      <td>89.75</td>\n",
       "      <td>609.1</td>\n",
       "      <td>0.08045</td>\n",
       "      <td>0.05361</td>\n",
       "      <td>0.02681</td>\n",
       "      <td>0.032510</td>\n",
       "      <td>...</td>\n",
       "      <td>14.920</td>\n",
       "      <td>25.34</td>\n",
       "      <td>96.42</td>\n",
       "      <td>684.5</td>\n",
       "      <td>0.1066</td>\n",
       "      <td>0.12310</td>\n",
       "      <td>0.084600</td>\n",
       "      <td>0.079110</td>\n",
       "      <td>0.2523</td>\n",
       "      <td>0.06609</td>\n",
       "    </tr>\n",
       "    <tr>\n",
       "      <th>116</th>\n",
       "      <td>864726</td>\n",
       "      <td>B</td>\n",
       "      <td>8.95</td>\n",
       "      <td>15.76</td>\n",
       "      <td>58.74</td>\n",
       "      <td>245.2</td>\n",
       "      <td>0.09462</td>\n",
       "      <td>0.12430</td>\n",
       "      <td>0.09263</td>\n",
       "      <td>0.023080</td>\n",
       "      <td>...</td>\n",
       "      <td>9.414</td>\n",
       "      <td>17.07</td>\n",
       "      <td>63.34</td>\n",
       "      <td>270.0</td>\n",
       "      <td>0.1179</td>\n",
       "      <td>0.18790</td>\n",
       "      <td>0.154400</td>\n",
       "      <td>0.038460</td>\n",
       "      <td>0.1652</td>\n",
       "      <td>0.07722</td>\n",
       "    </tr>\n",
       "    <tr>\n",
       "      <th>347</th>\n",
       "      <td>89869</td>\n",
       "      <td>B</td>\n",
       "      <td>14.76</td>\n",
       "      <td>14.74</td>\n",
       "      <td>94.87</td>\n",
       "      <td>668.7</td>\n",
       "      <td>0.08875</td>\n",
       "      <td>0.07780</td>\n",
       "      <td>0.04608</td>\n",
       "      <td>0.035280</td>\n",
       "      <td>...</td>\n",
       "      <td>17.270</td>\n",
       "      <td>17.93</td>\n",
       "      <td>114.20</td>\n",
       "      <td>880.8</td>\n",
       "      <td>0.1220</td>\n",
       "      <td>0.20090</td>\n",
       "      <td>0.215100</td>\n",
       "      <td>0.125100</td>\n",
       "      <td>0.3109</td>\n",
       "      <td>0.08187</td>\n",
       "    </tr>\n",
       "    <tr>\n",
       "      <th>250</th>\n",
       "      <td>884948</td>\n",
       "      <td>M</td>\n",
       "      <td>20.94</td>\n",
       "      <td>23.56</td>\n",
       "      <td>138.90</td>\n",
       "      <td>1364.0</td>\n",
       "      <td>0.10070</td>\n",
       "      <td>0.16060</td>\n",
       "      <td>0.27120</td>\n",
       "      <td>0.131000</td>\n",
       "      <td>...</td>\n",
       "      <td>25.580</td>\n",
       "      <td>27.00</td>\n",
       "      <td>165.30</td>\n",
       "      <td>2010.0</td>\n",
       "      <td>0.1211</td>\n",
       "      <td>0.31720</td>\n",
       "      <td>0.699100</td>\n",
       "      <td>0.210500</td>\n",
       "      <td>0.3126</td>\n",
       "      <td>0.07849</td>\n",
       "    </tr>\n",
       "    <tr>\n",
       "      <th>285</th>\n",
       "      <td>8912521</td>\n",
       "      <td>B</td>\n",
       "      <td>12.58</td>\n",
       "      <td>18.40</td>\n",
       "      <td>79.83</td>\n",
       "      <td>489.0</td>\n",
       "      <td>0.08393</td>\n",
       "      <td>0.04216</td>\n",
       "      <td>0.00186</td>\n",
       "      <td>0.002924</td>\n",
       "      <td>...</td>\n",
       "      <td>13.500</td>\n",
       "      <td>23.08</td>\n",
       "      <td>85.56</td>\n",
       "      <td>564.1</td>\n",
       "      <td>0.1038</td>\n",
       "      <td>0.06624</td>\n",
       "      <td>0.005579</td>\n",
       "      <td>0.008772</td>\n",
       "      <td>0.2505</td>\n",
       "      <td>0.06431</td>\n",
       "    </tr>\n",
       "    <tr>\n",
       "      <th>22</th>\n",
       "      <td>8511133</td>\n",
       "      <td>M</td>\n",
       "      <td>15.34</td>\n",
       "      <td>14.26</td>\n",
       "      <td>102.50</td>\n",
       "      <td>704.4</td>\n",
       "      <td>0.10730</td>\n",
       "      <td>0.21350</td>\n",
       "      <td>0.20770</td>\n",
       "      <td>0.097560</td>\n",
       "      <td>...</td>\n",
       "      <td>18.070</td>\n",
       "      <td>19.08</td>\n",
       "      <td>125.10</td>\n",
       "      <td>980.9</td>\n",
       "      <td>0.1390</td>\n",
       "      <td>0.59540</td>\n",
       "      <td>0.630500</td>\n",
       "      <td>0.239300</td>\n",
       "      <td>0.4667</td>\n",
       "      <td>0.09946</td>\n",
       "    </tr>\n",
       "  </tbody>\n",
       "</table>\n",
       "<p>10 rows × 32 columns</p>\n",
       "</div>"
      ],
      "text/plain": [
       "            id diagnosis  radius_mean  texture_mean  perimeter_mean  \\\n",
       "373     901288         M        20.64         17.35          134.80   \n",
       "254     886226         M        19.45         19.33          126.50   \n",
       "542     921644         B        14.74         25.42           94.70   \n",
       "449  911157302         M        21.10         20.52          138.10   \n",
       "395     903811         B        14.06         17.18           89.75   \n",
       "116     864726         B         8.95         15.76           58.74   \n",
       "347      89869         B        14.76         14.74           94.87   \n",
       "250     884948         M        20.94         23.56          138.90   \n",
       "285    8912521         B        12.58         18.40           79.83   \n",
       "22     8511133         M        15.34         14.26          102.50   \n",
       "\n",
       "     area_mean  smoothness_mean  compactness_mean  concavity_mean  \\\n",
       "373     1335.0          0.09446           0.10760         0.15270   \n",
       "254     1169.0          0.10350           0.11880         0.13790   \n",
       "542      668.6          0.08275           0.07214         0.04105   \n",
       "449     1384.0          0.09684           0.11750         0.15720   \n",
       "395      609.1          0.08045           0.05361         0.02681   \n",
       "116      245.2          0.09462           0.12430         0.09263   \n",
       "347      668.7          0.08875           0.07780         0.04608   \n",
       "250     1364.0          0.10070           0.16060         0.27120   \n",
       "285      489.0          0.08393           0.04216         0.00186   \n",
       "22       704.4          0.10730           0.21350         0.20770   \n",
       "\n",
       "     concave points_mean  ...  radius_worst  texture_worst  perimeter_worst  \\\n",
       "373             0.089410  ...        25.370          23.17           166.80   \n",
       "254             0.085910  ...        25.700          24.57           163.10   \n",
       "542             0.030270  ...        16.510          32.29           107.40   \n",
       "449             0.115500  ...        25.680          32.07           168.20   \n",
       "395             0.032510  ...        14.920          25.34            96.42   \n",
       "116             0.023080  ...         9.414          17.07            63.34   \n",
       "347             0.035280  ...        17.270          17.93           114.20   \n",
       "250             0.131000  ...        25.580          27.00           165.30   \n",
       "285             0.002924  ...        13.500          23.08            85.56   \n",
       "22              0.097560  ...        18.070          19.08           125.10   \n",
       "\n",
       "     area_worst  smoothness_worst  compactness_worst  concavity_worst  \\\n",
       "373      1946.0            0.1562            0.30550         0.415900   \n",
       "254      1972.0            0.1497            0.31610         0.431700   \n",
       "542       826.4            0.1060            0.13760         0.161100   \n",
       "449      2022.0            0.1368            0.31010         0.439900   \n",
       "395       684.5            0.1066            0.12310         0.084600   \n",
       "116       270.0            0.1179            0.18790         0.154400   \n",
       "347       880.8            0.1220            0.20090         0.215100   \n",
       "250      2010.0            0.1211            0.31720         0.699100   \n",
       "285       564.1            0.1038            0.06624         0.005579   \n",
       "22        980.9            0.1390            0.59540         0.630500   \n",
       "\n",
       "     concave points_worst  symmetry_worst  fractal_dimension_worst  \n",
       "373              0.211200          0.2689                  0.07055  \n",
       "254              0.199900          0.3379                  0.08950  \n",
       "542              0.109500          0.2722                  0.06956  \n",
       "449              0.228000          0.2268                  0.07425  \n",
       "395              0.079110          0.2523                  0.06609  \n",
       "116              0.038460          0.1652                  0.07722  \n",
       "347              0.125100          0.3109                  0.08187  \n",
       "250              0.210500          0.3126                  0.07849  \n",
       "285              0.008772          0.2505                  0.06431  \n",
       "22               0.239300          0.4667                  0.09946  \n",
       "\n",
       "[10 rows x 32 columns]"
      ]
     },
     "execution_count": 6,
     "metadata": {},
     "output_type": "execute_result"
    }
   ],
   "source": [
    "ca.sample(10) "
   ]
  },
  {
   "cell_type": "code",
   "execution_count": 7,
   "id": "837ceddf",
   "metadata": {
    "execution": {
     "iopub.execute_input": "2025-04-03T10:38:49.077601Z",
     "iopub.status.busy": "2025-04-03T10:38:49.077342Z",
     "iopub.status.idle": "2025-04-03T10:38:49.083578Z",
     "shell.execute_reply": "2025-04-03T10:38:49.082634Z"
    },
    "papermill": {
     "duration": 0.01167,
     "end_time": "2025-04-03T10:38:49.084955",
     "exception": false,
     "start_time": "2025-04-03T10:38:49.073285",
     "status": "completed"
    },
    "tags": []
   },
   "outputs": [
    {
     "data": {
      "text/plain": [
       "diagnosis\n",
       "B    357\n",
       "M    212\n",
       "Name: count, dtype: int64"
      ]
     },
     "execution_count": 7,
     "metadata": {},
     "output_type": "execute_result"
    }
   ],
   "source": [
    "diagnosis_counts = ca['diagnosis'].value_counts() \n",
    "diagnosis_counts"
   ]
  },
  {
   "cell_type": "code",
   "execution_count": 8,
   "id": "c7fd35cd",
   "metadata": {
    "execution": {
     "iopub.execute_input": "2025-04-03T10:38:49.093921Z",
     "iopub.status.busy": "2025-04-03T10:38:49.093644Z",
     "iopub.status.idle": "2025-04-03T10:38:49.326015Z",
     "shell.execute_reply": "2025-04-03T10:38:49.324872Z"
    },
    "papermill": {
     "duration": 0.238366,
     "end_time": "2025-04-03T10:38:49.327570",
     "exception": false,
     "start_time": "2025-04-03T10:38:49.089204",
     "status": "completed"
    },
    "tags": []
   },
   "outputs": [
    {
     "data": {
      "text/plain": [
       "[<matplotlib.lines.Line2D at 0x7f51e3e12200>]"
      ]
     },
     "execution_count": 8,
     "metadata": {},
     "output_type": "execute_result"
    },
    {
     "data": {
      "image/png": "[encoded data removed]",
      "text/plain": [
       "<Figure size 640x480 with 1 Axes>"
      ]
     },
     "metadata": {},
     "output_type": "display_data"
    }
   ],
   "source": [
    "plt.plot(diagnosis_counts.index, diagnosis_counts) "
   ]
  },
  {
   "cell_type": "markdown",
   "id": "82b2195c",
   "metadata": {
    "papermill": {
     "duration": 0.004567,
     "end_time": "2025-04-03T10:38:49.336632",
     "exception": false,
     "start_time": "2025-04-03T10:38:49.332065",
     "status": "completed"
    },
    "tags": []
   },
   "source": [
    "# Correlation: "
   ]
  },
  {
   "cell_type": "code",
   "execution_count": 9,
   "id": "cf87d189",
   "metadata": {
    "execution": {
     "iopub.execute_input": "2025-04-03T10:38:49.346693Z",
     "iopub.status.busy": "2025-04-03T10:38:49.346361Z",
     "iopub.status.idle": "2025-04-03T10:38:49.351404Z",
     "shell.execute_reply": "2025-04-03T10:38:49.350576Z"
    },
    "papermill": {
     "duration": 0.011528,
     "end_time": "2025-04-03T10:38:49.352723",
     "exception": false,
     "start_time": "2025-04-03T10:38:49.341195",
     "status": "completed"
    },
    "tags": []
   },
   "outputs": [],
   "source": [
    "ca['diagnosis'] = ca['diagnosis'].apply(lambda val: 1 if val == 'M' else 0)  "
   ]
  },
  {
   "cell_type": "code",
   "execution_count": 10,
   "id": "d4cc382f",
   "metadata": {
    "execution": {
     "iopub.execute_input": "2025-04-03T10:38:49.362660Z",
     "iopub.status.busy": "2025-04-03T10:38:49.362393Z",
     "iopub.status.idle": "2025-04-03T10:38:49.651536Z",
     "shell.execute_reply": "2025-04-03T10:38:49.650668Z"
    },
    "papermill": {
     "duration": 0.295718,
     "end_time": "2025-04-03T10:38:49.653110",
     "exception": false,
     "start_time": "2025-04-03T10:38:49.357392",
     "status": "completed"
    },
    "tags": []
   },
   "outputs": [
    {
     "data": {
      "text/plain": [
       "Text(0.5, 1.0, 'Diagnosis(M=1, B=0)')"
      ]
     },
     "execution_count": 10,
     "metadata": {},
     "output_type": "execute_result"
    },
    {
     "data": {
      "image/png": "[encoded data removed]",
      "text/plain": [
       "<Figure size 640x480 with 1 Axes>"
      ]
     },
     "metadata": {},
     "output_type": "display_data"
    }
   ],
   "source": [
    "plt.hist(ca['diagnosis'])  \n",
    "\n",
    "plt.title('Diagnosis(M=1, B=0)') "
   ]
  },
  {
   "cell_type": "code",
   "execution_count": null,
   "id": "3efa943a",
   "metadata": {
    "papermill": {
     "duration": 0.004911,
     "end_time": "2025-04-03T10:38:49.662947",
     "exception": false,
     "start_time": "2025-04-03T10:38:49.658036",
     "status": "completed"
    },
    "tags": []
   },
   "outputs": [],
   "source": []
  }
 ],
 "metadata": {
  "kaggle": {
   "accelerator": "none",
   "dataSources": [
    {
     "datasetId": 6954721,
     "sourceId": 11147922,
     "sourceType": "datasetVersion"
    }
   ],
   "dockerImageVersionId": 30918,
   "isGpuEnabled": false,
   "isInternetEnabled": true,
   "language": "python",
   "sourceType": "notebook"
  },
  "kernelspec": {
   "display_name": "Python 3",
   "language": "python",
   "name": "python3"
  },
  "language_info": {
   "codemirror_mode": {
    "name": "ipython",
    "version": 3
   },
   "file_extension": ".py",
   "mimetype": "text/x-python",
   "name": "python",
   "nbconvert_exporter": "python",
   "pygments_lexer": "ipython3",
   "version": "3.10.12"
  },
  "papermill": {
   "default_parameters": {},
   "duration": 6.086211,
   "end_time": "2025-04-03T10:38:50.287551",
   "environment_variables": {},
   "exception": null,
   "input_path": "__notebook__.ipynb",
   "output_path": "__notebook__.ipynb",
   "parameters": {},
   "start_time": "2025-04-03T10:38:44.201340",
   "version": "2.6.0"
  }
 },
 "nbformat": 4,
 "nbformat_minor": 5
}
