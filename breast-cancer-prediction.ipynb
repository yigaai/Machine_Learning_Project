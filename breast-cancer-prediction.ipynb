{
 "cells": [
  {
   "cell_type": "code",
   "execution_count": 1,
   "id": "5c91ad77",
   "metadata": {
    "execution": {
     "iopub.execute_input": "2025-03-24T11:27:28.009579Z",
     "iopub.status.busy": "2025-03-24T11:27:28.009231Z",
     "iopub.status.idle": "2025-03-24T11:27:28.932332Z",
     "shell.execute_reply": "2025-03-24T11:27:28.931336Z"
    },
    "papermill": {
     "duration": 0.929554,
     "end_time": "2025-03-24T11:27:28.934301",
     "exception": false,
     "start_time": "2025-03-24T11:27:28.004747",
     "status": "completed"
    },
    "tags": []
   },
   "outputs": [],
   "source": [
    "import os\n",
    "import numpy as np \n",
    "import pandas as pd \n",
    "import matplotlib.pyplot as plt "
   ]
  },
  {
   "cell_type": "code",
   "execution_count": 2,
   "id": "787ea7d3",
   "metadata": {
    "execution": {
     "iopub.execute_input": "2025-03-24T11:27:28.941665Z",
     "iopub.status.busy": "2025-03-24T11:27:28.941190Z",
     "iopub.status.idle": "2025-03-24T11:27:28.951905Z",
     "shell.execute_reply": "2025-03-24T11:27:28.950903Z"
    },
    "papermill": {
     "duration": 0.01609,
     "end_time": "2025-03-24T11:27:28.953629",
     "exception": false,
     "start_time": "2025-03-24T11:27:28.937539",
     "status": "completed"
    },
    "tags": []
   },
   "outputs": [
    {
     "data": {
      "text/plain": [
       "['breast-cancer.csv']"
      ]
     },
     "execution_count": 2,
     "metadata": {},
     "output_type": "execute_result"
    }
   ],
   "source": [
    "os.listdir('/kaggle/input/breast-cancer-dataset')  "
   ]
  },
  {
   "cell_type": "markdown",
   "id": "4c0b99df",
   "metadata": {
    "papermill": {
     "duration": 0.0025,
     "end_time": "2025-03-24T11:27:28.959145",
     "exception": false,
     "start_time": "2025-03-24T11:27:28.956645",
     "status": "completed"
    },
    "tags": []
   },
   "source": [
    "# Read Data "
   ]
  },
  {
   "cell_type": "code",
   "execution_count": 3,
   "id": "93940063",
   "metadata": {
    "execution": {
     "iopub.execute_input": "2025-03-24T11:27:28.966633Z",
     "iopub.status.busy": "2025-03-24T11:27:28.966260Z",
     "iopub.status.idle": "2025-03-24T11:27:28.988839Z",
     "shell.execute_reply": "2025-03-24T11:27:28.987775Z"
    },
    "papermill": {
     "duration": 0.028311,
     "end_time": "2025-03-24T11:27:28.990726",
     "exception": false,
     "start_time": "2025-03-24T11:27:28.962415",
     "status": "completed"
    },
    "tags": []
   },
   "outputs": [],
   "source": [
    "ca = pd.read_csv('/kaggle/input/breast-cancer-dataset/breast-cancer.csv') "
   ]
  },
  {
   "cell_type": "markdown",
   "id": "ee3d264b",
   "metadata": {
    "papermill": {
     "duration": 0.002528,
     "end_time": "2025-03-24T11:27:28.996381",
     "exception": false,
     "start_time": "2025-03-24T11:27:28.993853",
     "status": "completed"
    },
    "tags": []
   },
   "source": [
    "# Check Data "
   ]
  },
  {
   "cell_type": "code",
   "execution_count": 4,
   "id": "fc7d34ce",
   "metadata": {
    "execution": {
     "iopub.execute_input": "2025-03-24T11:27:29.003375Z",
     "iopub.status.busy": "2025-03-24T11:27:29.002913Z",
     "iopub.status.idle": "2025-03-24T11:27:29.042563Z",
     "shell.execute_reply": "2025-03-24T11:27:29.041430Z"
    },
    "papermill": {
     "duration": 0.04544,
     "end_time": "2025-03-24T11:27:29.044536",
     "exception": false,
     "start_time": "2025-03-24T11:27:28.999096",
     "status": "completed"
    },
    "tags": []
   },
   "outputs": [
    {
     "name": "stdout",
     "output_type": "stream",
     "text": [
      "<class 'pandas.core.frame.DataFrame'>\n",
      "RangeIndex: 569 entries, 0 to 568\n",
      "Data columns (total 32 columns):\n",
      " #   Column                   Non-Null Count  Dtype  \n",
      "---  ------                   --------------  -----  \n",
      " 0   id                       569 non-null    int64  \n",
      " 1   diagnosis                569 non-null    object \n",
      " 2   radius_mean              569 non-null    float64\n",
      " 3   texture_mean             569 non-null    float64\n",
      " 4   perimeter_mean           569 non-null    float64\n",
      " 5   area_mean                569 non-null    float64\n",
      " 6   smoothness_mean          569 non-null    float64\n",
      " 7   compactness_mean         569 non-null    float64\n",
      " 8   concavity_mean           569 non-null    float64\n",
      " 9   concave points_mean      569 non-null    float64\n",
      " 10  symmetry_mean            569 non-null    float64\n",
      " 11  fractal_dimension_mean   569 non-null    float64\n",
      " 12  radius_se                569 non-null    float64\n",
      " 13  texture_se               569 non-null    float64\n",
      " 14  perimeter_se             569 non-null    float64\n",
      " 15  area_se                  569 non-null    float64\n",
      " 16  smoothness_se            569 non-null    float64\n",
      " 17  compactness_se           569 non-null    float64\n",
      " 18  concavity_se             569 non-null    float64\n",
      " 19  concave points_se        569 non-null    float64\n",
      " 20  symmetry_se              569 non-null    float64\n",
      " 21  fractal_dimension_se     569 non-null    float64\n",
      " 22  radius_worst             569 non-null    float64\n",
      " 23  texture_worst            569 non-null    float64\n",
      " 24  perimeter_worst          569 non-null    float64\n",
      " 25  area_worst               569 non-null    float64\n",
      " 26  smoothness_worst         569 non-null    float64\n",
      " 27  compactness_worst        569 non-null    float64\n",
      " 28  concavity_worst          569 non-null    float64\n",
      " 29  concave points_worst     569 non-null    float64\n",
      " 30  symmetry_worst           569 non-null    float64\n",
      " 31  fractal_dimension_worst  569 non-null    float64\n",
      "dtypes: float64(30), int64(1), object(1)\n",
      "memory usage: 142.4+ KB\n"
     ]
    }
   ],
   "source": [
    "ca.info() "
   ]
  },
  {
   "cell_type": "code",
   "execution_count": 5,
   "id": "22977c18",
   "metadata": {
    "execution": {
     "iopub.execute_input": "2025-03-24T11:27:29.052677Z",
     "iopub.status.busy": "2025-03-24T11:27:29.052310Z",
     "iopub.status.idle": "2025-03-24T11:27:29.060161Z",
     "shell.execute_reply": "2025-03-24T11:27:29.059145Z"
    },
    "papermill": {
     "duration": 0.013466,
     "end_time": "2025-03-24T11:27:29.061909",
     "exception": false,
     "start_time": "2025-03-24T11:27:29.048443",
     "status": "completed"
    },
    "tags": []
   },
   "outputs": [
    {
     "data": {
      "text/plain": [
       "id                         0\n",
       "diagnosis                  0\n",
       "radius_mean                0\n",
       "texture_mean               0\n",
       "perimeter_mean             0\n",
       "area_mean                  0\n",
       "smoothness_mean            0\n",
       "compactness_mean           0\n",
       "concavity_mean             0\n",
       "concave points_mean        0\n",
       "symmetry_mean              0\n",
       "fractal_dimension_mean     0\n",
       "radius_se                  0\n",
       "texture_se                 0\n",
       "perimeter_se               0\n",
       "area_se                    0\n",
       "smoothness_se              0\n",
       "compactness_se             0\n",
       "concavity_se               0\n",
       "concave points_se          0\n",
       "symmetry_se                0\n",
       "fractal_dimension_se       0\n",
       "radius_worst               0\n",
       "texture_worst              0\n",
       "perimeter_worst            0\n",
       "area_worst                 0\n",
       "smoothness_worst           0\n",
       "compactness_worst          0\n",
       "concavity_worst            0\n",
       "concave points_worst       0\n",
       "symmetry_worst             0\n",
       "fractal_dimension_worst    0\n",
       "dtype: int64"
      ]
     },
     "execution_count": 5,
     "metadata": {},
     "output_type": "execute_result"
    }
   ],
   "source": [
    "ca.isnull().sum() "
   ]
  },
  {
   "cell_type": "code",
   "execution_count": 6,
   "id": "6437100e",
   "metadata": {
    "execution": {
     "iopub.execute_input": "2025-03-24T11:27:29.069411Z",
     "iopub.status.busy": "2025-03-24T11:27:29.069060Z",
     "iopub.status.idle": "2025-03-24T11:27:29.112197Z",
     "shell.execute_reply": "2025-03-24T11:27:29.110955Z"
    },
    "papermill": {
     "duration": 0.048814,
     "end_time": "2025-03-24T11:27:29.113913",
     "exception": false,
     "start_time": "2025-03-24T11:27:29.065099",
     "status": "completed"
    },
    "tags": []
   },
   "outputs": [
    {
     "data": {
      "text/html": [
       "<div>\n",
       "<style scoped>\n",
       "    .dataframe tbody tr th:only-of-type {\n",
       "        vertical-align: middle;\n",
       "    }\n",
       "\n",
       "    .dataframe tbody tr th {\n",
       "        vertical-align: top;\n",
       "    }\n",
       "\n",
       "    .dataframe thead th {\n",
       "        text-align: right;\n",
       "    }\n",
       "</style>\n",
       "<table border=\"1\" class=\"dataframe\">\n",
       "  <thead>\n",
       "    <tr style=\"text-align: right;\">\n",
       "      <th></th>\n",
       "      <th>id</th>\n",
       "      <th>diagnosis</th>\n",
       "      <th>radius_mean</th>\n",
       "      <th>texture_mean</th>\n",
       "      <th>perimeter_mean</th>\n",
       "      <th>area_mean</th>\n",
       "      <th>smoothness_mean</th>\n",
       "      <th>compactness_mean</th>\n",
       "      <th>concavity_mean</th>\n",
       "      <th>concave points_mean</th>\n",
       "      <th>...</th>\n",
       "      <th>radius_worst</th>\n",
       "      <th>texture_worst</th>\n",
       "      <th>perimeter_worst</th>\n",
       "      <th>area_worst</th>\n",
       "      <th>smoothness_worst</th>\n",
       "      <th>compactness_worst</th>\n",
       "      <th>concavity_worst</th>\n",
       "      <th>concave points_worst</th>\n",
       "      <th>symmetry_worst</th>\n",
       "      <th>fractal_dimension_worst</th>\n",
       "    </tr>\n",
       "  </thead>\n",
       "  <tbody>\n",
       "    <tr>\n",
       "      <th>438</th>\n",
       "      <td>909231</td>\n",
       "      <td>B</td>\n",
       "      <td>13.85</td>\n",
       "      <td>19.60</td>\n",
       "      <td>88.68</td>\n",
       "      <td>592.6</td>\n",
       "      <td>0.08684</td>\n",
       "      <td>0.06330</td>\n",
       "      <td>0.01342</td>\n",
       "      <td>0.022930</td>\n",
       "      <td>...</td>\n",
       "      <td>15.63</td>\n",
       "      <td>28.01</td>\n",
       "      <td>100.90</td>\n",
       "      <td>749.1</td>\n",
       "      <td>0.1118</td>\n",
       "      <td>0.11410</td>\n",
       "      <td>0.04753</td>\n",
       "      <td>0.05890</td>\n",
       "      <td>0.2513</td>\n",
       "      <td>0.06911</td>\n",
       "    </tr>\n",
       "    <tr>\n",
       "      <th>219</th>\n",
       "      <td>88119002</td>\n",
       "      <td>M</td>\n",
       "      <td>19.53</td>\n",
       "      <td>32.47</td>\n",
       "      <td>128.00</td>\n",
       "      <td>1223.0</td>\n",
       "      <td>0.08420</td>\n",
       "      <td>0.11300</td>\n",
       "      <td>0.11450</td>\n",
       "      <td>0.066370</td>\n",
       "      <td>...</td>\n",
       "      <td>27.90</td>\n",
       "      <td>45.41</td>\n",
       "      <td>180.20</td>\n",
       "      <td>2477.0</td>\n",
       "      <td>0.1408</td>\n",
       "      <td>0.40970</td>\n",
       "      <td>0.39950</td>\n",
       "      <td>0.16250</td>\n",
       "      <td>0.2713</td>\n",
       "      <td>0.07568</td>\n",
       "    </tr>\n",
       "    <tr>\n",
       "      <th>546</th>\n",
       "      <td>922577</td>\n",
       "      <td>B</td>\n",
       "      <td>10.32</td>\n",
       "      <td>16.35</td>\n",
       "      <td>65.31</td>\n",
       "      <td>324.9</td>\n",
       "      <td>0.09434</td>\n",
       "      <td>0.04994</td>\n",
       "      <td>0.01012</td>\n",
       "      <td>0.005495</td>\n",
       "      <td>...</td>\n",
       "      <td>11.25</td>\n",
       "      <td>21.77</td>\n",
       "      <td>71.12</td>\n",
       "      <td>384.9</td>\n",
       "      <td>0.1285</td>\n",
       "      <td>0.08842</td>\n",
       "      <td>0.04384</td>\n",
       "      <td>0.02381</td>\n",
       "      <td>0.2681</td>\n",
       "      <td>0.07399</td>\n",
       "    </tr>\n",
       "    <tr>\n",
       "      <th>328</th>\n",
       "      <td>8953902</td>\n",
       "      <td>M</td>\n",
       "      <td>16.27</td>\n",
       "      <td>20.71</td>\n",
       "      <td>106.90</td>\n",
       "      <td>813.7</td>\n",
       "      <td>0.11690</td>\n",
       "      <td>0.13190</td>\n",
       "      <td>0.14780</td>\n",
       "      <td>0.084880</td>\n",
       "      <td>...</td>\n",
       "      <td>19.28</td>\n",
       "      <td>30.38</td>\n",
       "      <td>129.80</td>\n",
       "      <td>1121.0</td>\n",
       "      <td>0.1590</td>\n",
       "      <td>0.29470</td>\n",
       "      <td>0.35970</td>\n",
       "      <td>0.15830</td>\n",
       "      <td>0.3103</td>\n",
       "      <td>0.08200</td>\n",
       "    </tr>\n",
       "    <tr>\n",
       "      <th>486</th>\n",
       "      <td>913102</td>\n",
       "      <td>B</td>\n",
       "      <td>14.64</td>\n",
       "      <td>16.85</td>\n",
       "      <td>94.21</td>\n",
       "      <td>666.0</td>\n",
       "      <td>0.08641</td>\n",
       "      <td>0.06698</td>\n",
       "      <td>0.05192</td>\n",
       "      <td>0.027910</td>\n",
       "      <td>...</td>\n",
       "      <td>16.46</td>\n",
       "      <td>25.44</td>\n",
       "      <td>106.00</td>\n",
       "      <td>831.0</td>\n",
       "      <td>0.1142</td>\n",
       "      <td>0.20700</td>\n",
       "      <td>0.24370</td>\n",
       "      <td>0.07828</td>\n",
       "      <td>0.2455</td>\n",
       "      <td>0.06596</td>\n",
       "    </tr>\n",
       "    <tr>\n",
       "      <th>11</th>\n",
       "      <td>84610002</td>\n",
       "      <td>M</td>\n",
       "      <td>15.78</td>\n",
       "      <td>17.89</td>\n",
       "      <td>103.60</td>\n",
       "      <td>781.0</td>\n",
       "      <td>0.09710</td>\n",
       "      <td>0.12920</td>\n",
       "      <td>0.09954</td>\n",
       "      <td>0.066060</td>\n",
       "      <td>...</td>\n",
       "      <td>20.42</td>\n",
       "      <td>27.28</td>\n",
       "      <td>136.50</td>\n",
       "      <td>1299.0</td>\n",
       "      <td>0.1396</td>\n",
       "      <td>0.56090</td>\n",
       "      <td>0.39650</td>\n",
       "      <td>0.18100</td>\n",
       "      <td>0.3792</td>\n",
       "      <td>0.10480</td>\n",
       "    </tr>\n",
       "    <tr>\n",
       "      <th>107</th>\n",
       "      <td>863270</td>\n",
       "      <td>B</td>\n",
       "      <td>12.36</td>\n",
       "      <td>18.54</td>\n",
       "      <td>79.01</td>\n",
       "      <td>466.7</td>\n",
       "      <td>0.08477</td>\n",
       "      <td>0.06815</td>\n",
       "      <td>0.02643</td>\n",
       "      <td>0.019210</td>\n",
       "      <td>...</td>\n",
       "      <td>13.29</td>\n",
       "      <td>27.49</td>\n",
       "      <td>85.56</td>\n",
       "      <td>544.1</td>\n",
       "      <td>0.1184</td>\n",
       "      <td>0.19630</td>\n",
       "      <td>0.19370</td>\n",
       "      <td>0.08442</td>\n",
       "      <td>0.2983</td>\n",
       "      <td>0.07185</td>\n",
       "    </tr>\n",
       "    <tr>\n",
       "      <th>518</th>\n",
       "      <td>917062</td>\n",
       "      <td>B</td>\n",
       "      <td>12.88</td>\n",
       "      <td>18.22</td>\n",
       "      <td>84.45</td>\n",
       "      <td>493.1</td>\n",
       "      <td>0.12180</td>\n",
       "      <td>0.16610</td>\n",
       "      <td>0.04825</td>\n",
       "      <td>0.053030</td>\n",
       "      <td>...</td>\n",
       "      <td>15.05</td>\n",
       "      <td>24.37</td>\n",
       "      <td>99.31</td>\n",
       "      <td>674.7</td>\n",
       "      <td>0.1456</td>\n",
       "      <td>0.29610</td>\n",
       "      <td>0.12460</td>\n",
       "      <td>0.10960</td>\n",
       "      <td>0.2582</td>\n",
       "      <td>0.08893</td>\n",
       "    </tr>\n",
       "    <tr>\n",
       "      <th>418</th>\n",
       "      <td>906024</td>\n",
       "      <td>B</td>\n",
       "      <td>12.70</td>\n",
       "      <td>12.17</td>\n",
       "      <td>80.88</td>\n",
       "      <td>495.0</td>\n",
       "      <td>0.08785</td>\n",
       "      <td>0.05794</td>\n",
       "      <td>0.02360</td>\n",
       "      <td>0.024020</td>\n",
       "      <td>...</td>\n",
       "      <td>13.65</td>\n",
       "      <td>16.92</td>\n",
       "      <td>88.12</td>\n",
       "      <td>566.9</td>\n",
       "      <td>0.1314</td>\n",
       "      <td>0.16070</td>\n",
       "      <td>0.09385</td>\n",
       "      <td>0.08224</td>\n",
       "      <td>0.2775</td>\n",
       "      <td>0.09464</td>\n",
       "    </tr>\n",
       "    <tr>\n",
       "      <th>379</th>\n",
       "      <td>9013838</td>\n",
       "      <td>M</td>\n",
       "      <td>11.08</td>\n",
       "      <td>18.83</td>\n",
       "      <td>73.30</td>\n",
       "      <td>361.6</td>\n",
       "      <td>0.12160</td>\n",
       "      <td>0.21540</td>\n",
       "      <td>0.16890</td>\n",
       "      <td>0.063670</td>\n",
       "      <td>...</td>\n",
       "      <td>13.24</td>\n",
       "      <td>32.82</td>\n",
       "      <td>91.76</td>\n",
       "      <td>508.1</td>\n",
       "      <td>0.2184</td>\n",
       "      <td>0.93790</td>\n",
       "      <td>0.84020</td>\n",
       "      <td>0.25240</td>\n",
       "      <td>0.4154</td>\n",
       "      <td>0.14030</td>\n",
       "    </tr>\n",
       "  </tbody>\n",
       "</table>\n",
       "<p>10 rows × 32 columns</p>\n",
       "</div>"
      ],
      "text/plain": [
       "           id diagnosis  radius_mean  texture_mean  perimeter_mean  area_mean  \\\n",
       "438    909231         B        13.85         19.60           88.68      592.6   \n",
       "219  88119002         M        19.53         32.47          128.00     1223.0   \n",
       "546    922577         B        10.32         16.35           65.31      324.9   \n",
       "328   8953902         M        16.27         20.71          106.90      813.7   \n",
       "486    913102         B        14.64         16.85           94.21      666.0   \n",
       "11   84610002         M        15.78         17.89          103.60      781.0   \n",
       "107    863270         B        12.36         18.54           79.01      466.7   \n",
       "518    917062         B        12.88         18.22           84.45      493.1   \n",
       "418    906024         B        12.70         12.17           80.88      495.0   \n",
       "379   9013838         M        11.08         18.83           73.30      361.6   \n",
       "\n",
       "     smoothness_mean  compactness_mean  concavity_mean  concave points_mean  \\\n",
       "438          0.08684           0.06330         0.01342             0.022930   \n",
       "219          0.08420           0.11300         0.11450             0.066370   \n",
       "546          0.09434           0.04994         0.01012             0.005495   \n",
       "328          0.11690           0.13190         0.14780             0.084880   \n",
       "486          0.08641           0.06698         0.05192             0.027910   \n",
       "11           0.09710           0.12920         0.09954             0.066060   \n",
       "107          0.08477           0.06815         0.02643             0.019210   \n",
       "518          0.12180           0.16610         0.04825             0.053030   \n",
       "418          0.08785           0.05794         0.02360             0.024020   \n",
       "379          0.12160           0.21540         0.16890             0.063670   \n",
       "\n",
       "     ...  radius_worst  texture_worst  perimeter_worst  area_worst  \\\n",
       "438  ...         15.63          28.01           100.90       749.1   \n",
       "219  ...         27.90          45.41           180.20      2477.0   \n",
       "546  ...         11.25          21.77            71.12       384.9   \n",
       "328  ...         19.28          30.38           129.80      1121.0   \n",
       "486  ...         16.46          25.44           106.00       831.0   \n",
       "11   ...         20.42          27.28           136.50      1299.0   \n",
       "107  ...         13.29          27.49            85.56       544.1   \n",
       "518  ...         15.05          24.37            99.31       674.7   \n",
       "418  ...         13.65          16.92            88.12       566.9   \n",
       "379  ...         13.24          32.82            91.76       508.1   \n",
       "\n",
       "     smoothness_worst  compactness_worst  concavity_worst  \\\n",
       "438            0.1118            0.11410          0.04753   \n",
       "219            0.1408            0.40970          0.39950   \n",
       "546            0.1285            0.08842          0.04384   \n",
       "328            0.1590            0.29470          0.35970   \n",
       "486            0.1142            0.20700          0.24370   \n",
       "11             0.1396            0.56090          0.39650   \n",
       "107            0.1184            0.19630          0.19370   \n",
       "518            0.1456            0.29610          0.12460   \n",
       "418            0.1314            0.16070          0.09385   \n",
       "379            0.2184            0.93790          0.84020   \n",
       "\n",
       "     concave points_worst  symmetry_worst  fractal_dimension_worst  \n",
       "438               0.05890          0.2513                  0.06911  \n",
       "219               0.16250          0.2713                  0.07568  \n",
       "546               0.02381          0.2681                  0.07399  \n",
       "328               0.15830          0.3103                  0.08200  \n",
       "486               0.07828          0.2455                  0.06596  \n",
       "11                0.18100          0.3792                  0.10480  \n",
       "107               0.08442          0.2983                  0.07185  \n",
       "518               0.10960          0.2582                  0.08893  \n",
       "418               0.08224          0.2775                  0.09464  \n",
       "379               0.25240          0.4154                  0.14030  \n",
       "\n",
       "[10 rows x 32 columns]"
      ]
     },
     "execution_count": 6,
     "metadata": {},
     "output_type": "execute_result"
    }
   ],
   "source": [
    "ca.sample(10) "
   ]
  },
  {
   "cell_type": "code",
   "execution_count": 7,
   "id": "b8d76576",
   "metadata": {
    "execution": {
     "iopub.execute_input": "2025-03-24T11:27:29.123019Z",
     "iopub.status.busy": "2025-03-24T11:27:29.122654Z",
     "iopub.status.idle": "2025-03-24T11:27:29.129741Z",
     "shell.execute_reply": "2025-03-24T11:27:29.128850Z"
    },
    "papermill": {
     "duration": 0.013054,
     "end_time": "2025-03-24T11:27:29.131217",
     "exception": false,
     "start_time": "2025-03-24T11:27:29.118163",
     "status": "completed"
    },
    "tags": []
   },
   "outputs": [
    {
     "data": {
      "text/plain": [
       "diagnosis\n",
       "B    357\n",
       "M    212\n",
       "Name: count, dtype: int64"
      ]
     },
     "execution_count": 7,
     "metadata": {},
     "output_type": "execute_result"
    }
   ],
   "source": [
    "diagnosis_counts = ca['diagnosis'].value_counts() \n",
    "diagnosis_counts"
   ]
  },
  {
   "cell_type": "code",
   "execution_count": 8,
   "id": "145452b4",
   "metadata": {
    "execution": {
     "iopub.execute_input": "2025-03-24T11:27:29.139917Z",
     "iopub.status.busy": "2025-03-24T11:27:29.139579Z",
     "iopub.status.idle": "2025-03-24T11:27:29.370459Z",
     "shell.execute_reply": "2025-03-24T11:27:29.369398Z"
    },
    "papermill": {
     "duration": 0.237519,
     "end_time": "2025-03-24T11:27:29.372436",
     "exception": false,
     "start_time": "2025-03-24T11:27:29.134917",
     "status": "completed"
    },
    "tags": []
   },
   "outputs": [
    {
     "data": {
      "text/plain": [
       "[<matplotlib.lines.Line2D at 0x7eb1c7fa0f40>]"
      ]
     },
     "execution_count": 8,
     "metadata": {},
     "output_type": "execute_result"
    },
    {
     "data": {
      "image/png": "[encoded data removed]",
      "text/plain": [
       "<Figure size 640x480 with 1 Axes>"
      ]
     },
     "metadata": {},
     "output_type": "display_data"
    }
   ],
   "source": [
    "plt.plot(diagnosis_counts.index, diagnosis_counts) "
   ]
  }
 ],
 "metadata": {
  "kaggle": {
   "accelerator": "none",
   "dataSources": [
    {
     "datasetId": 6954721,
     "sourceId": 11147922,
     "sourceType": "datasetVersion"
    }
   ],
   "dockerImageVersionId": 30918,
   "isGpuEnabled": false,
   "isInternetEnabled": true,
   "language": "python",
   "sourceType": "notebook"
  },
  "kernelspec": {
   "display_name": "Python 3",
   "language": "python",
   "name": "python3"
  },
  "language_info": {
   "codemirror_mode": {
    "name": "ipython",
    "version": 3
   },
   "file_extension": ".py",
   "mimetype": "text/x-python",
   "name": "python",
   "nbconvert_exporter": "python",
   "pygments_lexer": "ipython3",
   "version": "3.10.12"
  },
  "papermill": {
   "default_parameters": {},
   "duration": 4.646806,
   "end_time": "2025-03-24T11:27:29.897053",
   "environment_variables": {},
   "exception": null,
   "input_path": "__notebook__.ipynb",
   "output_path": "__notebook__.ipynb",
   "parameters": {},
   "start_time": "2025-03-24T11:27:25.250247",
   "version": "2.6.0"
  }
 },
 "nbformat": 4,
 "nbformat_minor": 5
}
