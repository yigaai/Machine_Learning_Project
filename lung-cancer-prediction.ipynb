{
 "cells": [
  {
   "cell_type": "markdown",
   "id": "9caf58d8",
   "metadata": {
    "papermill": {
     "duration": 0.005323,
     "end_time": "2025-03-06T07:49:12.543875",
     "exception": false,
     "start_time": "2025-03-06T07:49:12.538552",
     "status": "completed"
    },
    "tags": []
   },
   "source": [
    "#  How to use the dataset"
   ]
  },
  {
   "cell_type": "markdown",
   "id": "35d7a57e",
   "metadata": {
    "papermill": {
     "duration": 0.004303,
     "end_time": "2025-03-06T07:49:12.552991",
     "exception": false,
     "start_time": "2025-03-06T07:49:12.548688",
     "status": "completed"
    },
    "tags": []
   },
   "source": [
    "Lung cancer is the leading cause of cancer death worldwide, accounting for 1.59 million deaths in 2018. \n",
    "\n",
    "The majority of lung cancer cases are attributed to smoking, but exposure to air pollution is also a risk factor. A new study has found that air pollution may be linked to an increased risk of lung cancer, even in nonsmokers.\n",
    "\n",
    "The study, which was published in the journal Nature Medicine, looked at data from over 462,000 people in China who were followed for an average of six years. \n",
    "\n",
    "The participants were divided into two groups: those who lived in areas with high levels of air pollution and those who lived in areas with low levels of air pollution.\n",
    "\n",
    "The researchers found that the people in the high-pollution group were more likely to develop lung cancer than those in the low-pollution group. \n",
    "They also found that the risk was higher in nonsmokers than smokers and that the risk increased with age.\n",
    "\n",
    "While this study does not prove that air pollution causes lung cancer, it does suggest that there may be a link between the two. More research is needed to confirm these findings and to determine what effect different types and levels of air pollution may have on lung cancer risk. "
   ]
  },
  {
   "cell_type": "markdown",
   "id": "047370cc",
   "metadata": {
    "papermill": {
     "duration": 0.004225,
     "end_time": "2025-03-06T07:49:12.561699",
     "exception": false,
     "start_time": "2025-03-06T07:49:12.557474",
     "status": "completed"
    },
    "tags": []
   },
   "source": [
    "# Research Goals"
   ]
  },
  {
   "cell_type": "markdown",
   "id": "d7b9bfc2",
   "metadata": {
    "papermill": {
     "duration": 0.004254,
     "end_time": "2025-03-06T07:49:12.570573",
     "exception": false,
     "start_time": "2025-03-06T07:49:12.566319",
     "status": "completed"
    },
    "tags": []
   },
   "source": [
    "1. Predict the **likelihood** of a patient developing lung cancer.\n",
    "   \n",
    "2. Identify **risk factors** for lung cancer.\n",
    "\n",
    "3. Determinate **the most effective treatment** for a patient with lung cancer. "
   ]
  },
  {
   "cell_type": "code",
   "execution_count": 1,
   "id": "5828386d",
   "metadata": {
    "execution": {
     "iopub.execute_input": "2025-03-06T07:49:12.581081Z",
     "iopub.status.busy": "2025-03-06T07:49:12.580692Z",
     "iopub.status.idle": "2025-03-06T07:49:15.052270Z",
     "shell.execute_reply": "2025-03-06T07:49:15.050957Z"
    },
    "papermill": {
     "duration": 2.479271,
     "end_time": "2025-03-06T07:49:15.054339",
     "exception": false,
     "start_time": "2025-03-06T07:49:12.575068",
     "status": "completed"
    },
    "tags": []
   },
   "outputs": [],
   "source": [
    "import os\n",
    "import numpy as np\n",
    "import pandas as pd\n",
    "import seaborn as sns \n",
    "from matplotlib import pyplot as plt\n",
    "\n",
    "%matplotlib inline"
   ]
  },
  {
   "cell_type": "markdown",
   "id": "103e071f",
   "metadata": {
    "papermill": {
     "duration": 0.00424,
     "end_time": "2025-03-06T07:49:15.063359",
     "exception": false,
     "start_time": "2025-03-06T07:49:15.059119",
     "status": "completed"
    },
    "tags": []
   },
   "source": [
    "# Read Data "
   ]
  },
  {
   "cell_type": "code",
   "execution_count": 2,
   "id": "17f147ec",
   "metadata": {
    "execution": {
     "iopub.execute_input": "2025-03-06T07:49:15.073826Z",
     "iopub.status.busy": "2025-03-06T07:49:15.073265Z",
     "iopub.status.idle": "2025-03-06T07:49:15.086771Z",
     "shell.execute_reply": "2025-03-06T07:49:15.085762Z"
    },
    "papermill": {
     "duration": 0.020524,
     "end_time": "2025-03-06T07:49:15.088460",
     "exception": false,
     "start_time": "2025-03-06T07:49:15.067936",
     "status": "completed"
    },
    "tags": []
   },
   "outputs": [
    {
     "data": {
      "text/plain": [
       "['cancer patient data sets.csv']"
      ]
     },
     "execution_count": 2,
     "metadata": {},
     "output_type": "execute_result"
    }
   ],
   "source": [
    "os.chdir('/kaggle/')\n",
    "os.listdir('/kaggle/input/lung-cancer-data') "
   ]
  },
  {
   "cell_type": "code",
   "execution_count": 3,
   "id": "0a069fe1",
   "metadata": {
    "execution": {
     "iopub.execute_input": "2025-03-06T07:49:15.099246Z",
     "iopub.status.busy": "2025-03-06T07:49:15.098897Z",
     "iopub.status.idle": "2025-03-06T07:49:15.118736Z",
     "shell.execute_reply": "2025-03-06T07:49:15.117820Z"
    },
    "papermill": {
     "duration": 0.027358,
     "end_time": "2025-03-06T07:49:15.120645",
     "exception": false,
     "start_time": "2025-03-06T07:49:15.093287",
     "status": "completed"
    },
    "tags": []
   },
   "outputs": [],
   "source": [
    "lung_cancer = pd.read_csv('/kaggle/input/lung-cancer-data/cancer patient data sets.csv') "
   ]
  },
  {
   "cell_type": "markdown",
   "id": "a799ecc1",
   "metadata": {
    "papermill": {
     "duration": 0.004455,
     "end_time": "2025-03-06T07:49:15.130050",
     "exception": false,
     "start_time": "2025-03-06T07:49:15.125595",
     "status": "completed"
    },
    "tags": []
   },
   "source": [
    "# Data Cleaning & Encoding Labels"
   ]
  },
  {
   "cell_type": "code",
   "execution_count": 4,
   "id": "e540a4f1",
   "metadata": {
    "execution": {
     "iopub.execute_input": "2025-03-06T07:49:15.140605Z",
     "iopub.status.busy": "2025-03-06T07:49:15.140264Z",
     "iopub.status.idle": "2025-03-06T07:49:15.145931Z",
     "shell.execute_reply": "2025-03-06T07:49:15.144859Z"
    },
    "papermill": {
     "duration": 0.01278,
     "end_time": "2025-03-06T07:49:15.147517",
     "exception": false,
     "start_time": "2025-03-06T07:49:15.134737",
     "status": "completed"
    },
    "tags": []
   },
   "outputs": [
    {
     "data": {
      "text/plain": [
       "(1000, 26)"
      ]
     },
     "execution_count": 4,
     "metadata": {},
     "output_type": "execute_result"
    }
   ],
   "source": [
    "lung_cancer.shape"
   ]
  },
  {
   "cell_type": "code",
   "execution_count": 5,
   "id": "79e78790",
   "metadata": {
    "execution": {
     "iopub.execute_input": "2025-03-06T07:49:15.158597Z",
     "iopub.status.busy": "2025-03-06T07:49:15.158213Z",
     "iopub.status.idle": "2025-03-06T07:49:15.169600Z",
     "shell.execute_reply": "2025-03-06T07:49:15.168681Z"
    },
    "papermill": {
     "duration": 0.018755,
     "end_time": "2025-03-06T07:49:15.171304",
     "exception": false,
     "start_time": "2025-03-06T07:49:15.152549",
     "status": "completed"
    },
    "tags": []
   },
   "outputs": [
    {
     "data": {
      "text/plain": [
       "index                        int64\n",
       "Patient Id                  object\n",
       "Age                          int64\n",
       "Gender                       int64\n",
       "Air Pollution                int64\n",
       "Alcohol use                  int64\n",
       "Dust Allergy                 int64\n",
       "OccuPational Hazards         int64\n",
       "Genetic Risk                 int64\n",
       "chronic Lung Disease         int64\n",
       "Balanced Diet                int64\n",
       "Obesity                      int64\n",
       "Smoking                      int64\n",
       "Passive Smoker               int64\n",
       "Chest Pain                   int64\n",
       "Coughing of Blood            int64\n",
       "Fatigue                      int64\n",
       "Weight Loss                  int64\n",
       "Shortness of Breath          int64\n",
       "Wheezing                     int64\n",
       "Swallowing Difficulty        int64\n",
       "Clubbing of Finger Nails     int64\n",
       "Frequent Cold                int64\n",
       "Dry Cough                    int64\n",
       "Snoring                      int64\n",
       "Level                       object\n",
       "dtype: object"
      ]
     },
     "execution_count": 5,
     "metadata": {},
     "output_type": "execute_result"
    }
   ],
   "source": [
    "lung_cancer.dtypes"
   ]
  },
  {
   "cell_type": "code",
   "execution_count": 6,
   "id": "c95042ee",
   "metadata": {
    "execution": {
     "iopub.execute_input": "2025-03-06T07:49:15.182570Z",
     "iopub.status.busy": "2025-03-06T07:49:15.182223Z",
     "iopub.status.idle": "2025-03-06T07:49:15.207493Z",
     "shell.execute_reply": "2025-03-06T07:49:15.206182Z"
    },
    "papermill": {
     "duration": 0.033365,
     "end_time": "2025-03-06T07:49:15.209794",
     "exception": false,
     "start_time": "2025-03-06T07:49:15.176429",
     "status": "completed"
    },
    "tags": []
   },
   "outputs": [
    {
     "name": "stdout",
     "output_type": "stream",
     "text": [
      "<class 'pandas.core.frame.DataFrame'>\n",
      "RangeIndex: 1000 entries, 0 to 999\n",
      "Data columns (total 26 columns):\n",
      " #   Column                    Non-Null Count  Dtype \n",
      "---  ------                    --------------  ----- \n",
      " 0   index                     1000 non-null   int64 \n",
      " 1   Patient Id                1000 non-null   object\n",
      " 2   Age                       1000 non-null   int64 \n",
      " 3   Gender                    1000 non-null   int64 \n",
      " 4   Air Pollution             1000 non-null   int64 \n",
      " 5   Alcohol use               1000 non-null   int64 \n",
      " 6   Dust Allergy              1000 non-null   int64 \n",
      " 7   OccuPational Hazards      1000 non-null   int64 \n",
      " 8   Genetic Risk              1000 non-null   int64 \n",
      " 9   chronic Lung Disease      1000 non-null   int64 \n",
      " 10  Balanced Diet             1000 non-null   int64 \n",
      " 11  Obesity                   1000 non-null   int64 \n",
      " 12  Smoking                   1000 non-null   int64 \n",
      " 13  Passive Smoker            1000 non-null   int64 \n",
      " 14  Chest Pain                1000 non-null   int64 \n",
      " 15  Coughing of Blood         1000 non-null   int64 \n",
      " 16  Fatigue                   1000 non-null   int64 \n",
      " 17  Weight Loss               1000 non-null   int64 \n",
      " 18  Shortness of Breath       1000 non-null   int64 \n",
      " 19  Wheezing                  1000 non-null   int64 \n",
      " 20  Swallowing Difficulty     1000 non-null   int64 \n",
      " 21  Clubbing of Finger Nails  1000 non-null   int64 \n",
      " 22  Frequent Cold             1000 non-null   int64 \n",
      " 23  Dry Cough                 1000 non-null   int64 \n",
      " 24  Snoring                   1000 non-null   int64 \n",
      " 25  Level                     1000 non-null   object\n",
      "dtypes: int64(24), object(2)\n",
      "memory usage: 203.2+ KB\n"
     ]
    }
   ],
   "source": [
    "lung_cancer.info()"
   ]
  },
  {
   "cell_type": "code",
   "execution_count": 7,
   "id": "8364799a",
   "metadata": {
    "execution": {
     "iopub.execute_input": "2025-03-06T07:49:15.221889Z",
     "iopub.status.busy": "2025-03-06T07:49:15.221504Z",
     "iopub.status.idle": "2025-03-06T07:49:15.250063Z",
     "shell.execute_reply": "2025-03-06T07:49:15.248925Z"
    },
    "papermill": {
     "duration": 0.036607,
     "end_time": "2025-03-06T07:49:15.251823",
     "exception": false,
     "start_time": "2025-03-06T07:49:15.215216",
     "status": "completed"
    },
    "tags": []
   },
   "outputs": [
    {
     "data": {
      "text/html": [
       "<div>\n",
       "<style scoped>\n",
       "    .dataframe tbody tr th:only-of-type {\n",
       "        vertical-align: middle;\n",
       "    }\n",
       "\n",
       "    .dataframe tbody tr th {\n",
       "        vertical-align: top;\n",
       "    }\n",
       "\n",
       "    .dataframe thead th {\n",
       "        text-align: right;\n",
       "    }\n",
       "</style>\n",
       "<table border=\"1\" class=\"dataframe\">\n",
       "  <thead>\n",
       "    <tr style=\"text-align: right;\">\n",
       "      <th></th>\n",
       "      <th>index</th>\n",
       "      <th>Patient Id</th>\n",
       "      <th>Age</th>\n",
       "      <th>Gender</th>\n",
       "      <th>Air Pollution</th>\n",
       "      <th>Alcohol use</th>\n",
       "      <th>Dust Allergy</th>\n",
       "      <th>OccuPational Hazards</th>\n",
       "      <th>Genetic Risk</th>\n",
       "      <th>chronic Lung Disease</th>\n",
       "      <th>...</th>\n",
       "      <th>Fatigue</th>\n",
       "      <th>Weight Loss</th>\n",
       "      <th>Shortness of Breath</th>\n",
       "      <th>Wheezing</th>\n",
       "      <th>Swallowing Difficulty</th>\n",
       "      <th>Clubbing of Finger Nails</th>\n",
       "      <th>Frequent Cold</th>\n",
       "      <th>Dry Cough</th>\n",
       "      <th>Snoring</th>\n",
       "      <th>Level</th>\n",
       "    </tr>\n",
       "  </thead>\n",
       "  <tbody>\n",
       "    <tr>\n",
       "      <th>0</th>\n",
       "      <td>0</td>\n",
       "      <td>P1</td>\n",
       "      <td>33</td>\n",
       "      <td>1</td>\n",
       "      <td>2</td>\n",
       "      <td>4</td>\n",
       "      <td>5</td>\n",
       "      <td>4</td>\n",
       "      <td>3</td>\n",
       "      <td>2</td>\n",
       "      <td>...</td>\n",
       "      <td>3</td>\n",
       "      <td>4</td>\n",
       "      <td>2</td>\n",
       "      <td>2</td>\n",
       "      <td>3</td>\n",
       "      <td>1</td>\n",
       "      <td>2</td>\n",
       "      <td>3</td>\n",
       "      <td>4</td>\n",
       "      <td>Low</td>\n",
       "    </tr>\n",
       "    <tr>\n",
       "      <th>1</th>\n",
       "      <td>1</td>\n",
       "      <td>P10</td>\n",
       "      <td>17</td>\n",
       "      <td>1</td>\n",
       "      <td>3</td>\n",
       "      <td>1</td>\n",
       "      <td>5</td>\n",
       "      <td>3</td>\n",
       "      <td>4</td>\n",
       "      <td>2</td>\n",
       "      <td>...</td>\n",
       "      <td>1</td>\n",
       "      <td>3</td>\n",
       "      <td>7</td>\n",
       "      <td>8</td>\n",
       "      <td>6</td>\n",
       "      <td>2</td>\n",
       "      <td>1</td>\n",
       "      <td>7</td>\n",
       "      <td>2</td>\n",
       "      <td>Medium</td>\n",
       "    </tr>\n",
       "    <tr>\n",
       "      <th>2</th>\n",
       "      <td>2</td>\n",
       "      <td>P100</td>\n",
       "      <td>35</td>\n",
       "      <td>1</td>\n",
       "      <td>4</td>\n",
       "      <td>5</td>\n",
       "      <td>6</td>\n",
       "      <td>5</td>\n",
       "      <td>5</td>\n",
       "      <td>4</td>\n",
       "      <td>...</td>\n",
       "      <td>8</td>\n",
       "      <td>7</td>\n",
       "      <td>9</td>\n",
       "      <td>2</td>\n",
       "      <td>1</td>\n",
       "      <td>4</td>\n",
       "      <td>6</td>\n",
       "      <td>7</td>\n",
       "      <td>2</td>\n",
       "      <td>High</td>\n",
       "    </tr>\n",
       "    <tr>\n",
       "      <th>3</th>\n",
       "      <td>3</td>\n",
       "      <td>P1000</td>\n",
       "      <td>37</td>\n",
       "      <td>1</td>\n",
       "      <td>7</td>\n",
       "      <td>7</td>\n",
       "      <td>7</td>\n",
       "      <td>7</td>\n",
       "      <td>6</td>\n",
       "      <td>7</td>\n",
       "      <td>...</td>\n",
       "      <td>4</td>\n",
       "      <td>2</td>\n",
       "      <td>3</td>\n",
       "      <td>1</td>\n",
       "      <td>4</td>\n",
       "      <td>5</td>\n",
       "      <td>6</td>\n",
       "      <td>7</td>\n",
       "      <td>5</td>\n",
       "      <td>High</td>\n",
       "    </tr>\n",
       "    <tr>\n",
       "      <th>4</th>\n",
       "      <td>4</td>\n",
       "      <td>P101</td>\n",
       "      <td>46</td>\n",
       "      <td>1</td>\n",
       "      <td>6</td>\n",
       "      <td>8</td>\n",
       "      <td>7</td>\n",
       "      <td>7</td>\n",
       "      <td>7</td>\n",
       "      <td>6</td>\n",
       "      <td>...</td>\n",
       "      <td>3</td>\n",
       "      <td>2</td>\n",
       "      <td>4</td>\n",
       "      <td>1</td>\n",
       "      <td>4</td>\n",
       "      <td>2</td>\n",
       "      <td>4</td>\n",
       "      <td>2</td>\n",
       "      <td>3</td>\n",
       "      <td>High</td>\n",
       "    </tr>\n",
       "  </tbody>\n",
       "</table>\n",
       "<p>5 rows × 26 columns</p>\n",
       "</div>"
      ],
      "text/plain": [
       "   index Patient Id  Age  Gender  Air Pollution  Alcohol use  Dust Allergy  \\\n",
       "0      0         P1   33       1              2            4             5   \n",
       "1      1        P10   17       1              3            1             5   \n",
       "2      2       P100   35       1              4            5             6   \n",
       "3      3      P1000   37       1              7            7             7   \n",
       "4      4       P101   46       1              6            8             7   \n",
       "\n",
       "   OccuPational Hazards  Genetic Risk  chronic Lung Disease  ...  Fatigue  \\\n",
       "0                     4             3                     2  ...        3   \n",
       "1                     3             4                     2  ...        1   \n",
       "2                     5             5                     4  ...        8   \n",
       "3                     7             6                     7  ...        4   \n",
       "4                     7             7                     6  ...        3   \n",
       "\n",
       "   Weight Loss  Shortness of Breath  Wheezing  Swallowing Difficulty  \\\n",
       "0            4                    2         2                      3   \n",
       "1            3                    7         8                      6   \n",
       "2            7                    9         2                      1   \n",
       "3            2                    3         1                      4   \n",
       "4            2                    4         1                      4   \n",
       "\n",
       "   Clubbing of Finger Nails  Frequent Cold  Dry Cough  Snoring   Level  \n",
       "0                         1              2          3        4     Low  \n",
       "1                         2              1          7        2  Medium  \n",
       "2                         4              6          7        2    High  \n",
       "3                         5              6          7        5    High  \n",
       "4                         2              4          2        3    High  \n",
       "\n",
       "[5 rows x 26 columns]"
      ]
     },
     "execution_count": 7,
     "metadata": {},
     "output_type": "execute_result"
    }
   ],
   "source": [
    "lung_cancer.head(5) "
   ]
  },
  {
   "cell_type": "code",
   "execution_count": 8,
   "id": "f0b70d8b",
   "metadata": {
    "execution": {
     "iopub.execute_input": "2025-03-06T07:49:15.264114Z",
     "iopub.status.busy": "2025-03-06T07:49:15.263766Z",
     "iopub.status.idle": "2025-03-06T07:49:15.323618Z",
     "shell.execute_reply": "2025-03-06T07:49:15.322556Z"
    },
    "papermill": {
     "duration": 0.067846,
     "end_time": "2025-03-06T07:49:15.325256",
     "exception": false,
     "start_time": "2025-03-06T07:49:15.257410",
     "status": "completed"
    },
    "tags": []
   },
   "outputs": [
    {
     "data": {
      "text/html": [
       "<div>\n",
       "<style scoped>\n",
       "    .dataframe tbody tr th:only-of-type {\n",
       "        vertical-align: middle;\n",
       "    }\n",
       "\n",
       "    .dataframe tbody tr th {\n",
       "        vertical-align: top;\n",
       "    }\n",
       "\n",
       "    .dataframe thead th {\n",
       "        text-align: right;\n",
       "    }\n",
       "</style>\n",
       "<table border=\"1\" class=\"dataframe\">\n",
       "  <thead>\n",
       "    <tr style=\"text-align: right;\">\n",
       "      <th></th>\n",
       "      <th>index</th>\n",
       "      <th>Age</th>\n",
       "      <th>Gender</th>\n",
       "      <th>Air Pollution</th>\n",
       "      <th>Alcohol use</th>\n",
       "      <th>Dust Allergy</th>\n",
       "      <th>OccuPational Hazards</th>\n",
       "      <th>Genetic Risk</th>\n",
       "      <th>chronic Lung Disease</th>\n",
       "      <th>Balanced Diet</th>\n",
       "      <th>...</th>\n",
       "      <th>Coughing of Blood</th>\n",
       "      <th>Fatigue</th>\n",
       "      <th>Weight Loss</th>\n",
       "      <th>Shortness of Breath</th>\n",
       "      <th>Wheezing</th>\n",
       "      <th>Swallowing Difficulty</th>\n",
       "      <th>Clubbing of Finger Nails</th>\n",
       "      <th>Frequent Cold</th>\n",
       "      <th>Dry Cough</th>\n",
       "      <th>Snoring</th>\n",
       "    </tr>\n",
       "  </thead>\n",
       "  <tbody>\n",
       "    <tr>\n",
       "      <th>count</th>\n",
       "      <td>1000.000000</td>\n",
       "      <td>1000.000000</td>\n",
       "      <td>1000.000000</td>\n",
       "      <td>1000.0000</td>\n",
       "      <td>1000.000000</td>\n",
       "      <td>1000.000000</td>\n",
       "      <td>1000.000000</td>\n",
       "      <td>1000.000000</td>\n",
       "      <td>1000.000000</td>\n",
       "      <td>1000.000000</td>\n",
       "      <td>...</td>\n",
       "      <td>1000.000000</td>\n",
       "      <td>1000.000000</td>\n",
       "      <td>1000.000000</td>\n",
       "      <td>1000.000000</td>\n",
       "      <td>1000.000000</td>\n",
       "      <td>1000.000000</td>\n",
       "      <td>1000.000000</td>\n",
       "      <td>1000.000000</td>\n",
       "      <td>1000.000000</td>\n",
       "      <td>1000.000000</td>\n",
       "    </tr>\n",
       "    <tr>\n",
       "      <th>mean</th>\n",
       "      <td>499.500000</td>\n",
       "      <td>37.174000</td>\n",
       "      <td>1.402000</td>\n",
       "      <td>3.8400</td>\n",
       "      <td>4.563000</td>\n",
       "      <td>5.165000</td>\n",
       "      <td>4.840000</td>\n",
       "      <td>4.580000</td>\n",
       "      <td>4.380000</td>\n",
       "      <td>4.491000</td>\n",
       "      <td>...</td>\n",
       "      <td>4.859000</td>\n",
       "      <td>3.856000</td>\n",
       "      <td>3.855000</td>\n",
       "      <td>4.240000</td>\n",
       "      <td>3.777000</td>\n",
       "      <td>3.746000</td>\n",
       "      <td>3.923000</td>\n",
       "      <td>3.536000</td>\n",
       "      <td>3.853000</td>\n",
       "      <td>2.926000</td>\n",
       "    </tr>\n",
       "    <tr>\n",
       "      <th>std</th>\n",
       "      <td>288.819436</td>\n",
       "      <td>12.005493</td>\n",
       "      <td>0.490547</td>\n",
       "      <td>2.0304</td>\n",
       "      <td>2.620477</td>\n",
       "      <td>1.980833</td>\n",
       "      <td>2.107805</td>\n",
       "      <td>2.126999</td>\n",
       "      <td>1.848518</td>\n",
       "      <td>2.135528</td>\n",
       "      <td>...</td>\n",
       "      <td>2.427965</td>\n",
       "      <td>2.244616</td>\n",
       "      <td>2.206546</td>\n",
       "      <td>2.285087</td>\n",
       "      <td>2.041921</td>\n",
       "      <td>2.270383</td>\n",
       "      <td>2.388048</td>\n",
       "      <td>1.832502</td>\n",
       "      <td>2.039007</td>\n",
       "      <td>1.474686</td>\n",
       "    </tr>\n",
       "    <tr>\n",
       "      <th>min</th>\n",
       "      <td>0.000000</td>\n",
       "      <td>14.000000</td>\n",
       "      <td>1.000000</td>\n",
       "      <td>1.0000</td>\n",
       "      <td>1.000000</td>\n",
       "      <td>1.000000</td>\n",
       "      <td>1.000000</td>\n",
       "      <td>1.000000</td>\n",
       "      <td>1.000000</td>\n",
       "      <td>1.000000</td>\n",
       "      <td>...</td>\n",
       "      <td>1.000000</td>\n",
       "      <td>1.000000</td>\n",
       "      <td>1.000000</td>\n",
       "      <td>1.000000</td>\n",
       "      <td>1.000000</td>\n",
       "      <td>1.000000</td>\n",
       "      <td>1.000000</td>\n",
       "      <td>1.000000</td>\n",
       "      <td>1.000000</td>\n",
       "      <td>1.000000</td>\n",
       "    </tr>\n",
       "    <tr>\n",
       "      <th>25%</th>\n",
       "      <td>249.750000</td>\n",
       "      <td>27.750000</td>\n",
       "      <td>1.000000</td>\n",
       "      <td>2.0000</td>\n",
       "      <td>2.000000</td>\n",
       "      <td>4.000000</td>\n",
       "      <td>3.000000</td>\n",
       "      <td>2.000000</td>\n",
       "      <td>3.000000</td>\n",
       "      <td>2.000000</td>\n",
       "      <td>...</td>\n",
       "      <td>3.000000</td>\n",
       "      <td>2.000000</td>\n",
       "      <td>2.000000</td>\n",
       "      <td>2.000000</td>\n",
       "      <td>2.000000</td>\n",
       "      <td>2.000000</td>\n",
       "      <td>2.000000</td>\n",
       "      <td>2.000000</td>\n",
       "      <td>2.000000</td>\n",
       "      <td>2.000000</td>\n",
       "    </tr>\n",
       "    <tr>\n",
       "      <th>50%</th>\n",
       "      <td>499.500000</td>\n",
       "      <td>36.000000</td>\n",
       "      <td>1.000000</td>\n",
       "      <td>3.0000</td>\n",
       "      <td>5.000000</td>\n",
       "      <td>6.000000</td>\n",
       "      <td>5.000000</td>\n",
       "      <td>5.000000</td>\n",
       "      <td>4.000000</td>\n",
       "      <td>4.000000</td>\n",
       "      <td>...</td>\n",
       "      <td>4.000000</td>\n",
       "      <td>3.000000</td>\n",
       "      <td>3.000000</td>\n",
       "      <td>4.000000</td>\n",
       "      <td>4.000000</td>\n",
       "      <td>4.000000</td>\n",
       "      <td>4.000000</td>\n",
       "      <td>3.000000</td>\n",
       "      <td>4.000000</td>\n",
       "      <td>3.000000</td>\n",
       "    </tr>\n",
       "    <tr>\n",
       "      <th>75%</th>\n",
       "      <td>749.250000</td>\n",
       "      <td>45.000000</td>\n",
       "      <td>2.000000</td>\n",
       "      <td>6.0000</td>\n",
       "      <td>7.000000</td>\n",
       "      <td>7.000000</td>\n",
       "      <td>7.000000</td>\n",
       "      <td>7.000000</td>\n",
       "      <td>6.000000</td>\n",
       "      <td>7.000000</td>\n",
       "      <td>...</td>\n",
       "      <td>7.000000</td>\n",
       "      <td>5.000000</td>\n",
       "      <td>6.000000</td>\n",
       "      <td>6.000000</td>\n",
       "      <td>5.000000</td>\n",
       "      <td>5.000000</td>\n",
       "      <td>5.000000</td>\n",
       "      <td>5.000000</td>\n",
       "      <td>6.000000</td>\n",
       "      <td>4.000000</td>\n",
       "    </tr>\n",
       "    <tr>\n",
       "      <th>max</th>\n",
       "      <td>999.000000</td>\n",
       "      <td>73.000000</td>\n",
       "      <td>2.000000</td>\n",
       "      <td>8.0000</td>\n",
       "      <td>8.000000</td>\n",
       "      <td>8.000000</td>\n",
       "      <td>8.000000</td>\n",
       "      <td>7.000000</td>\n",
       "      <td>7.000000</td>\n",
       "      <td>7.000000</td>\n",
       "      <td>...</td>\n",
       "      <td>9.000000</td>\n",
       "      <td>9.000000</td>\n",
       "      <td>8.000000</td>\n",
       "      <td>9.000000</td>\n",
       "      <td>8.000000</td>\n",
       "      <td>8.000000</td>\n",
       "      <td>9.000000</td>\n",
       "      <td>7.000000</td>\n",
       "      <td>7.000000</td>\n",
       "      <td>7.000000</td>\n",
       "    </tr>\n",
       "  </tbody>\n",
       "</table>\n",
       "<p>8 rows × 24 columns</p>\n",
       "</div>"
      ],
      "text/plain": [
       "             index          Age       Gender  Air Pollution  Alcohol use  \\\n",
       "count  1000.000000  1000.000000  1000.000000      1000.0000  1000.000000   \n",
       "mean    499.500000    37.174000     1.402000         3.8400     4.563000   \n",
       "std     288.819436    12.005493     0.490547         2.0304     2.620477   \n",
       "min       0.000000    14.000000     1.000000         1.0000     1.000000   \n",
       "25%     249.750000    27.750000     1.000000         2.0000     2.000000   \n",
       "50%     499.500000    36.000000     1.000000         3.0000     5.000000   \n",
       "75%     749.250000    45.000000     2.000000         6.0000     7.000000   \n",
       "max     999.000000    73.000000     2.000000         8.0000     8.000000   \n",
       "\n",
       "       Dust Allergy  OccuPational Hazards  Genetic Risk  chronic Lung Disease  \\\n",
       "count   1000.000000           1000.000000   1000.000000           1000.000000   \n",
       "mean       5.165000              4.840000      4.580000              4.380000   \n",
       "std        1.980833              2.107805      2.126999              1.848518   \n",
       "min        1.000000              1.000000      1.000000              1.000000   \n",
       "25%        4.000000              3.000000      2.000000              3.000000   \n",
       "50%        6.000000              5.000000      5.000000              4.000000   \n",
       "75%        7.000000              7.000000      7.000000              6.000000   \n",
       "max        8.000000              8.000000      7.000000              7.000000   \n",
       "\n",
       "       Balanced Diet  ...  Coughing of Blood      Fatigue  Weight Loss  \\\n",
       "count    1000.000000  ...        1000.000000  1000.000000  1000.000000   \n",
       "mean        4.491000  ...           4.859000     3.856000     3.855000   \n",
       "std         2.135528  ...           2.427965     2.244616     2.206546   \n",
       "min         1.000000  ...           1.000000     1.000000     1.000000   \n",
       "25%         2.000000  ...           3.000000     2.000000     2.000000   \n",
       "50%         4.000000  ...           4.000000     3.000000     3.000000   \n",
       "75%         7.000000  ...           7.000000     5.000000     6.000000   \n",
       "max         7.000000  ...           9.000000     9.000000     8.000000   \n",
       "\n",
       "       Shortness of Breath     Wheezing  Swallowing Difficulty  \\\n",
       "count          1000.000000  1000.000000            1000.000000   \n",
       "mean              4.240000     3.777000               3.746000   \n",
       "std               2.285087     2.041921               2.270383   \n",
       "min               1.000000     1.000000               1.000000   \n",
       "25%               2.000000     2.000000               2.000000   \n",
       "50%               4.000000     4.000000               4.000000   \n",
       "75%               6.000000     5.000000               5.000000   \n",
       "max               9.000000     8.000000               8.000000   \n",
       "\n",
       "       Clubbing of Finger Nails  Frequent Cold    Dry Cough      Snoring  \n",
       "count               1000.000000    1000.000000  1000.000000  1000.000000  \n",
       "mean                   3.923000       3.536000     3.853000     2.926000  \n",
       "std                    2.388048       1.832502     2.039007     1.474686  \n",
       "min                    1.000000       1.000000     1.000000     1.000000  \n",
       "25%                    2.000000       2.000000     2.000000     2.000000  \n",
       "50%                    4.000000       3.000000     4.000000     3.000000  \n",
       "75%                    5.000000       5.000000     6.000000     4.000000  \n",
       "max                    9.000000       7.000000     7.000000     7.000000  \n",
       "\n",
       "[8 rows x 24 columns]"
      ]
     },
     "execution_count": 8,
     "metadata": {},
     "output_type": "execute_result"
    }
   ],
   "source": [
    "lung_cancer.describe()  "
   ]
  },
  {
   "cell_type": "code",
   "execution_count": 9,
   "id": "e8e1cce3",
   "metadata": {
    "execution": {
     "iopub.execute_input": "2025-03-06T07:49:15.338215Z",
     "iopub.status.busy": "2025-03-06T07:49:15.337862Z",
     "iopub.status.idle": "2025-03-06T07:49:15.351443Z",
     "shell.execute_reply": "2025-03-06T07:49:15.350532Z"
    },
    "papermill": {
     "duration": 0.021935,
     "end_time": "2025-03-06T07:49:15.353156",
     "exception": false,
     "start_time": "2025-03-06T07:49:15.331221",
     "status": "completed"
    },
    "tags": []
   },
   "outputs": [
    {
     "data": {
      "text/html": [
       "<div>\n",
       "<style scoped>\n",
       "    .dataframe tbody tr th:only-of-type {\n",
       "        vertical-align: middle;\n",
       "    }\n",
       "\n",
       "    .dataframe tbody tr th {\n",
       "        vertical-align: top;\n",
       "    }\n",
       "\n",
       "    .dataframe thead th {\n",
       "        text-align: right;\n",
       "    }\n",
       "</style>\n",
       "<table border=\"1\" class=\"dataframe\">\n",
       "  <thead>\n",
       "    <tr style=\"text-align: right;\">\n",
       "      <th></th>\n",
       "      <th>Patient Id</th>\n",
       "      <th>Level</th>\n",
       "    </tr>\n",
       "  </thead>\n",
       "  <tbody>\n",
       "    <tr>\n",
       "      <th>count</th>\n",
       "      <td>1000</td>\n",
       "      <td>1000</td>\n",
       "    </tr>\n",
       "    <tr>\n",
       "      <th>unique</th>\n",
       "      <td>1000</td>\n",
       "      <td>3</td>\n",
       "    </tr>\n",
       "    <tr>\n",
       "      <th>top</th>\n",
       "      <td>P1</td>\n",
       "      <td>High</td>\n",
       "    </tr>\n",
       "    <tr>\n",
       "      <th>freq</th>\n",
       "      <td>1</td>\n",
       "      <td>365</td>\n",
       "    </tr>\n",
       "  </tbody>\n",
       "</table>\n",
       "</div>"
      ],
      "text/plain": [
       "       Patient Id Level\n",
       "count        1000  1000\n",
       "unique       1000     3\n",
       "top            P1  High\n",
       "freq            1   365"
      ]
     },
     "execution_count": 9,
     "metadata": {},
     "output_type": "execute_result"
    }
   ],
   "source": [
    "categorical_var = lung_cancer.dtypes[lung_cancer.dtypes == 'object'].index \n",
    "lung_cancer[categorical_var].describe() "
   ]
  },
  {
   "cell_type": "code",
   "execution_count": 10,
   "id": "46e31f7e",
   "metadata": {
    "execution": {
     "iopub.execute_input": "2025-03-06T07:49:15.366817Z",
     "iopub.status.busy": "2025-03-06T07:49:15.366421Z",
     "iopub.status.idle": "2025-03-06T07:49:15.373866Z",
     "shell.execute_reply": "2025-03-06T07:49:15.372832Z"
    },
    "papermill": {
     "duration": 0.016013,
     "end_time": "2025-03-06T07:49:15.375379",
     "exception": false,
     "start_time": "2025-03-06T07:49:15.359366",
     "status": "completed"
    },
    "tags": []
   },
   "outputs": [
    {
     "data": {
      "text/plain": [
       "index                       0\n",
       "Patient Id                  0\n",
       "Age                         0\n",
       "Gender                      0\n",
       "Air Pollution               0\n",
       "Alcohol use                 0\n",
       "Dust Allergy                0\n",
       "OccuPational Hazards        0\n",
       "Genetic Risk                0\n",
       "chronic Lung Disease        0\n",
       "Balanced Diet               0\n",
       "Obesity                     0\n",
       "Smoking                     0\n",
       "Passive Smoker              0\n",
       "Chest Pain                  0\n",
       "Coughing of Blood           0\n",
       "Fatigue                     0\n",
       "Weight Loss                 0\n",
       "Shortness of Breath         0\n",
       "Wheezing                    0\n",
       "Swallowing Difficulty       0\n",
       "Clubbing of Finger Nails    0\n",
       "Frequent Cold               0\n",
       "Dry Cough                   0\n",
       "Snoring                     0\n",
       "Level                       0\n",
       "dtype: int64"
      ]
     },
     "execution_count": 10,
     "metadata": {},
     "output_type": "execute_result"
    }
   ],
   "source": [
    "lung_cancer.isnull().sum() "
   ]
  },
  {
   "cell_type": "code",
   "execution_count": 11,
   "id": "65e297bc",
   "metadata": {
    "execution": {
     "iopub.execute_input": "2025-03-06T07:49:15.388928Z",
     "iopub.status.busy": "2025-03-06T07:49:15.388499Z",
     "iopub.status.idle": "2025-03-06T07:49:15.569211Z",
     "shell.execute_reply": "2025-03-06T07:49:15.567989Z"
    },
    "papermill": {
     "duration": 0.189755,
     "end_time": "2025-03-06T07:49:15.571222",
     "exception": false,
     "start_time": "2025-03-06T07:49:15.381467",
     "status": "completed"
    },
    "tags": []
   },
   "outputs": [],
   "source": [
    "# Encoding Label:  \n",
    "\n",
    "from sklearn.preprocessing import LabelEncoder\n",
    "\n",
    "label_encoder = LabelEncoder() \n",
    "\n",
    "categorical_columns = [\"Level\"] \n",
    "\n",
    "for column in categorical_columns: \n",
    "    lung_cancer[column] = label_encoder.fit_transform(lung_cancer[column])      \n",
    " "
   ]
  },
  {
   "cell_type": "markdown",
   "id": "9589cb8d",
   "metadata": {
    "papermill": {
     "duration": 0.006669,
     "end_time": "2025-03-06T07:49:15.584324",
     "exception": false,
     "start_time": "2025-03-06T07:49:15.577655",
     "status": "completed"
    },
    "tags": []
   },
   "source": [
    "# Define Features & Target for Machine Learning Model"
   ]
  },
  {
   "cell_type": "code",
   "execution_count": 12,
   "id": "f9916b6a",
   "metadata": {
    "execution": {
     "iopub.execute_input": "2025-03-06T07:49:15.597800Z",
     "iopub.status.busy": "2025-03-06T07:49:15.597387Z",
     "iopub.status.idle": "2025-03-06T07:49:15.604187Z",
     "shell.execute_reply": "2025-03-06T07:49:15.603125Z"
    },
    "papermill": {
     "duration": 0.015536,
     "end_time": "2025-03-06T07:49:15.606011",
     "exception": false,
     "start_time": "2025-03-06T07:49:15.590475",
     "status": "completed"
    },
    "tags": []
   },
   "outputs": [],
   "source": [
    "X = lung_cancer.drop(['Level'], axis = 1) \n",
    "y = lung_cancer['Level'] "
   ]
  },
  {
   "cell_type": "markdown",
   "id": "b1654fd1",
   "metadata": {
    "papermill": {
     "duration": 0.005786,
     "end_time": "2025-03-06T07:49:15.618611",
     "exception": false,
     "start_time": "2025-03-06T07:49:15.612825",
     "status": "completed"
    },
    "tags": []
   },
   "source": [
    "# Exploratory Data Analysis (EDA) "
   ]
  },
  {
   "cell_type": "code",
   "execution_count": 13,
   "id": "b924480d",
   "metadata": {
    "execution": {
     "iopub.execute_input": "2025-03-06T07:49:15.631768Z",
     "iopub.status.busy": "2025-03-06T07:49:15.631359Z",
     "iopub.status.idle": "2025-03-06T07:49:15.640101Z",
     "shell.execute_reply": "2025-03-06T07:49:15.639021Z"
    },
    "papermill": {
     "duration": 0.017306,
     "end_time": "2025-03-06T07:49:15.641871",
     "exception": false,
     "start_time": "2025-03-06T07:49:15.624565",
     "status": "completed"
    },
    "tags": []
   },
   "outputs": [
    {
     "data": {
      "text/plain": [
       "Level\n",
       "0    365\n",
       "2    332\n",
       "1    303\n",
       "Name: count, dtype: int64"
      ]
     },
     "execution_count": 13,
     "metadata": {},
     "output_type": "execute_result"
    }
   ],
   "source": [
    "lung_cancer[\"Level\"].value_counts() "
   ]
  },
  {
   "cell_type": "code",
   "execution_count": 14,
   "id": "b5434a97",
   "metadata": {
    "execution": {
     "iopub.execute_input": "2025-03-06T07:49:15.656587Z",
     "iopub.status.busy": "2025-03-06T07:49:15.656220Z",
     "iopub.status.idle": "2025-03-06T07:49:15.961213Z",
     "shell.execute_reply": "2025-03-06T07:49:15.960247Z"
    },
    "papermill": {
     "duration": 0.313673,
     "end_time": "2025-03-06T07:49:15.962818",
     "exception": false,
     "start_time": "2025-03-06T07:49:15.649145",
     "status": "completed"
    },
    "tags": []
   },
   "outputs": [
    {
     "data": {
      "text/plain": [
       "<Axes: xlabel='Level', ylabel='Air Pollution'>"
      ]
     },
     "execution_count": 14,
     "metadata": {},
     "output_type": "execute_result"
    },
    {
     "data": {
      "image/png": "[encoded data removed]",
      "text/plain": [
       "<Figure size 640x480 with 1 Axes>"
      ]
     },
     "metadata": {},
     "output_type": "display_data"
    }
   ],
   "source": [
    "sns.barplot(x = \"Level\", y = \"Air Pollution\", data = lung_cancer )"
   ]
  },
  {
   "cell_type": "code",
   "execution_count": 15,
   "id": "0f28d055",
   "metadata": {
    "execution": {
     "iopub.execute_input": "2025-03-06T07:49:15.976858Z",
     "iopub.status.busy": "2025-03-06T07:49:15.976496Z",
     "iopub.status.idle": "2025-03-06T07:49:16.187795Z",
     "shell.execute_reply": "2025-03-06T07:49:16.186715Z"
    },
    "papermill": {
     "duration": 0.220085,
     "end_time": "2025-03-06T07:49:16.189421",
     "exception": false,
     "start_time": "2025-03-06T07:49:15.969336",
     "status": "completed"
    },
    "tags": []
   },
   "outputs": [
    {
     "data": {
      "text/plain": [
       "<Axes: xlabel='Level', ylabel='Smoking'>"
      ]
     },
     "execution_count": 15,
     "metadata": {},
     "output_type": "execute_result"
    },
    {
     "data": {
      "image/png": "[encoded data removed]",
      "text/plain": [
       "<Figure size 640x480 with 1 Axes>"
      ]
     },
     "metadata": {},
     "output_type": "display_data"
    }
   ],
   "source": [
    "sns.barplot(x = 'Level', y = 'Smoking', data = lung_cancer)"
   ]
  },
  {
   "cell_type": "markdown",
   "id": "40d4de04",
   "metadata": {
    "papermill": {
     "duration": 0.006715,
     "end_time": "2025-03-06T07:49:16.203333",
     "exception": false,
     "start_time": "2025-03-06T07:49:16.196618",
     "status": "completed"
    },
    "tags": []
   },
   "source": [
    "# Correlation Heatmap "
   ]
  },
  {
   "cell_type": "code",
   "execution_count": null,
   "id": "1b926912",
   "metadata": {
    "papermill": {
     "duration": 0.006585,
     "end_time": "2025-03-06T07:49:16.216784",
     "exception": false,
     "start_time": "2025-03-06T07:49:16.210199",
     "status": "completed"
    },
    "tags": []
   },
   "outputs": [],
   "source": []
  }
 ],
 "metadata": {
  "kaggle": {
   "accelerator": "none",
   "dataSources": [
    {
     "datasetId": 6794121,
     "sourceId": 10927579,
     "sourceType": "datasetVersion"
    }
   ],
   "dockerImageVersionId": 30918,
   "isGpuEnabled": false,
   "isInternetEnabled": true,
   "language": "python",
   "sourceType": "notebook"
  },
  "kernelspec": {
   "display_name": "Python 3",
   "language": "python",
   "name": "python3"
  },
  "language_info": {
   "codemirror_mode": {
    "name": "ipython",
    "version": 3
   },
   "file_extension": ".py",
   "mimetype": "text/x-python",
   "name": "python",
   "nbconvert_exporter": "python",
   "pygments_lexer": "ipython3",
   "version": "3.10.12"
  },
  "papermill": {
   "default_parameters": {},
   "duration": 7.126132,
   "end_time": "2025-03-06T07:49:16.944523",
   "environment_variables": {},
   "exception": null,
   "input_path": "__notebook__.ipynb",
   "output_path": "__notebook__.ipynb",
   "parameters": {},
   "start_time": "2025-03-06T07:49:09.818391",
   "version": "2.6.0"
  }
 },
 "nbformat": 4,
 "nbformat_minor": 5
}
